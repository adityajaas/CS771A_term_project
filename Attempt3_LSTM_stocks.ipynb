{
  "nbformat": 4,
  "nbformat_minor": 0,
  "metadata": {
    "colab": {
      "name": "CS771A Stock Prediction Models.ipynb",
      "provenance": [],
      "collapsed_sections": []
    },
    "kernelspec": {
      "name": "python3",
      "display_name": "Python 3"
    }
  },
  "cells": [
    {
      "cell_type": "code",
      "metadata": {
        "id": "zxkx9-TYq-h9"
      },
      "source": [
        "''' \n",
        "  The Term Project Begins. Will add project description here later\n",
        "\n",
        "'''"
      ],
      "execution_count": null,
      "outputs": []
    },
    {
      "cell_type": "markdown",
      "metadata": {
        "id": "1XDXJRfxOSYe"
      },
      "source": [
        "# **Import Libraries**"
      ]
    },
    {
      "cell_type": "code",
      "metadata": {
        "id": "PWmCRhw1rOSS",
        "colab": {
          "base_uri": "https://localhost:8080/"
        },
        "outputId": "55c2393e-5a95-404d-ec6b-5c6d7bd90722"
      },
      "source": [
        "# Libraries to install\n",
        "!pip install nsepy"
      ],
      "execution_count": null,
      "outputs": [
        {
          "output_type": "stream",
          "text": [
            "Collecting nsepy\n",
            "  Downloading https://files.pythonhosted.org/packages/89/52/2e9f0de0c687ad181f17e0783319d31d66869c410793c5b94dc6cd4b3db2/nsepy-0.8.tar.gz\n",
            "Requirement already satisfied: beautifulsoup4 in /usr/local/lib/python3.6/dist-packages (from nsepy) (4.6.3)\n",
            "Requirement already satisfied: requests in /usr/local/lib/python3.6/dist-packages (from nsepy) (2.23.0)\n",
            "Requirement already satisfied: numpy in /usr/local/lib/python3.6/dist-packages (from nsepy) (1.18.5)\n",
            "Requirement already satisfied: pandas in /usr/local/lib/python3.6/dist-packages (from nsepy) (1.1.4)\n",
            "Requirement already satisfied: six in /usr/local/lib/python3.6/dist-packages (from nsepy) (1.15.0)\n",
            "Requirement already satisfied: click in /usr/local/lib/python3.6/dist-packages (from nsepy) (7.1.2)\n",
            "Requirement already satisfied: lxml in /usr/local/lib/python3.6/dist-packages (from nsepy) (4.2.6)\n",
            "Requirement already satisfied: chardet<4,>=3.0.2 in /usr/local/lib/python3.6/dist-packages (from requests->nsepy) (3.0.4)\n",
            "Requirement already satisfied: urllib3!=1.25.0,!=1.25.1,<1.26,>=1.21.1 in /usr/local/lib/python3.6/dist-packages (from requests->nsepy) (1.24.3)\n",
            "Requirement already satisfied: idna<3,>=2.5 in /usr/local/lib/python3.6/dist-packages (from requests->nsepy) (2.10)\n",
            "Requirement already satisfied: certifi>=2017.4.17 in /usr/local/lib/python3.6/dist-packages (from requests->nsepy) (2020.11.8)\n",
            "Requirement already satisfied: python-dateutil>=2.7.3 in /usr/local/lib/python3.6/dist-packages (from pandas->nsepy) (2.8.1)\n",
            "Requirement already satisfied: pytz>=2017.2 in /usr/local/lib/python3.6/dist-packages (from pandas->nsepy) (2018.9)\n",
            "Building wheels for collected packages: nsepy\n",
            "  Building wheel for nsepy (setup.py) ... \u001b[?25l\u001b[?25hdone\n",
            "  Created wheel for nsepy: filename=nsepy-0.8-cp36-none-any.whl size=36085 sha256=8c37728239279753f61d2bd46ee480011c347f0a9b4cfd6f90bed1a588501d04\n",
            "  Stored in directory: /root/.cache/pip/wheels/05/2c/72/5324e267426eea65dec0c21a12a48b15887c0cf686c7a8fe11\n",
            "Successfully built nsepy\n",
            "Installing collected packages: nsepy\n",
            "Successfully installed nsepy-0.8\n"
          ],
          "name": "stdout"
        }
      ]
    },
    {
      "cell_type": "code",
      "metadata": {
        "id": "w_g2iVvmufhU"
      },
      "source": [
        "# Packages to import\n",
        "from nsepy import get_history as gh\n",
        "import datetime as dt\n",
        "import sklearn\n",
        "from sklearn.metrics import confusion_matrix\n",
        "import matplotlib.pyplot as plt\n",
        "from sklearn.metrics import mean_squared_error\n",
        "import math\n",
        "import numpy as np\n",
        "import tensorflow as tf\n",
        "from tensorflow.keras.models import Sequential\n",
        "from tensorflow.keras.layers import LSTM, Dense, Dropout\n",
        "from tensorflow.keras.callbacks import EarlyStopping, ModelCheckpoint\n",
        "from keras.layers import LSTM\n",
        "import pandas as pd\n",
        "from sklearn.preprocessing import MinMaxScaler, StandardScaler"
      ],
      "execution_count": null,
      "outputs": []
    },
    {
      "cell_type": "markdown",
      "metadata": {
        "id": "W1pq_iJwU-xK"
      },
      "source": [
        "# **LSTM Model based Prediction**\n",
        "For Jupyter notebook, load data from NSEpy library.\\\n",
        "For Google Collab, load data pre-extracted from NSEpy in .csv file"
      ]
    },
    {
      "cell_type": "code",
      "metadata": {
        "id": "_PMCqUHuwZWR",
        "colab": {
          "base_uri": "https://localhost:8080/",
          "height": 52
        },
        "outputId": "2f2e0a98-f455-46ce-d0e2-ee8b20d044ef"
      },
      "source": [
        "  '''\n",
        "=====ATTENTION=====\n",
        "nsepy.get_history gets caught in a infinite loop in google collab but works perfectly in local host Jupyter notebook.\n",
        "So for google colab, we import data from a csv file created from the same data on a Jupyter Notebook\n",
        "===================\n",
        "'''\n",
        "# # For Jupyter Notebook only. Skip this cell for Google colab\n",
        "# # Import data from NSEpy\n",
        "# start_date = dt.datetime(2015,1,1)\n",
        "# end_date = dt.datetime(2020,8,31)\n",
        "# data = gh(symbol='RELIANCE',start = start_date, end = end_date)"
      ],
      "execution_count": null,
      "outputs": [
        {
          "output_type": "execute_result",
          "data": {
            "application/vnd.google.colaboratory.intrinsic+json": {
              "type": "string"
            },
            "text/plain": [
              "'\\n=====ATTENTION=====\\nnsepy.get_history gets caught in a infinite loop in google collab but works perfectly in local host Jupyter notebook.\\nSo for google colab, we import data from a csv file created from the same data on a Jupyter Notebook\\n===================\\n'"
            ]
          },
          "metadata": {
            "tags": []
          },
          "execution_count": 4
        }
      ]
    },
    {
      "cell_type": "code",
      "metadata": {
        "id": "ehsGxoxj3c_j",
        "colab": {
          "base_uri": "https://localhost:8080/",
          "height": 204
        },
        "outputId": "bb526e57-328f-4402-e3e7-71836042a722"
      },
      "source": [
        "# For Google collab, import data from github\n",
        "data = pd.read_csv('https://raw.githubusercontent.com/adityajaas/CS771A_term_project/master/RELIANCE.csv')\n",
        "data.set_index(pd.Index(np.linspace(1, len(data.index), len(data.index), dtype = int)))\n",
        "data['Date']= pd.to_datetime(data['Date']) \n",
        "data.head()"
      ],
      "execution_count": null,
      "outputs": [
        {
          "output_type": "execute_result",
          "data": {
            "text/html": [
              "<div>\n",
              "<style scoped>\n",
              "    .dataframe tbody tr th:only-of-type {\n",
              "        vertical-align: middle;\n",
              "    }\n",
              "\n",
              "    .dataframe tbody tr th {\n",
              "        vertical-align: top;\n",
              "    }\n",
              "\n",
              "    .dataframe thead th {\n",
              "        text-align: right;\n",
              "    }\n",
              "</style>\n",
              "<table border=\"1\" class=\"dataframe\">\n",
              "  <thead>\n",
              "    <tr style=\"text-align: right;\">\n",
              "      <th></th>\n",
              "      <th>Date</th>\n",
              "      <th>Symbol</th>\n",
              "      <th>Series</th>\n",
              "      <th>Prev Close</th>\n",
              "      <th>Open</th>\n",
              "      <th>High</th>\n",
              "      <th>Low</th>\n",
              "      <th>Last</th>\n",
              "      <th>Close</th>\n",
              "      <th>VWAP</th>\n",
              "      <th>Volume</th>\n",
              "      <th>Turnover</th>\n",
              "      <th>Trades</th>\n",
              "      <th>Deliverable Volume</th>\n",
              "      <th>%Deliverble</th>\n",
              "    </tr>\n",
              "  </thead>\n",
              "  <tbody>\n",
              "    <tr>\n",
              "      <th>0</th>\n",
              "      <td>2015-01-01</td>\n",
              "      <td>RELIANCE</td>\n",
              "      <td>EQ</td>\n",
              "      <td>891.15</td>\n",
              "      <td>886.3</td>\n",
              "      <td>892.00</td>\n",
              "      <td>883.65</td>\n",
              "      <td>888.00</td>\n",
              "      <td>887.90</td>\n",
              "      <td>887.62</td>\n",
              "      <td>677439</td>\n",
              "      <td>6.013059e+13</td>\n",
              "      <td>16263</td>\n",
              "      <td>286377</td>\n",
              "      <td>0.4227</td>\n",
              "    </tr>\n",
              "    <tr>\n",
              "      <th>1</th>\n",
              "      <td>2015-01-02</td>\n",
              "      <td>RELIANCE</td>\n",
              "      <td>EQ</td>\n",
              "      <td>887.90</td>\n",
              "      <td>888.1</td>\n",
              "      <td>896.05</td>\n",
              "      <td>884.30</td>\n",
              "      <td>884.95</td>\n",
              "      <td>885.55</td>\n",
              "      <td>889.39</td>\n",
              "      <td>1675827</td>\n",
              "      <td>1.490461e+14</td>\n",
              "      <td>31269</td>\n",
              "      <td>1048543</td>\n",
              "      <td>0.6257</td>\n",
              "    </tr>\n",
              "    <tr>\n",
              "      <th>2</th>\n",
              "      <td>2015-01-05</td>\n",
              "      <td>RELIANCE</td>\n",
              "      <td>EQ</td>\n",
              "      <td>885.55</td>\n",
              "      <td>885.0</td>\n",
              "      <td>890.90</td>\n",
              "      <td>874.10</td>\n",
              "      <td>875.55</td>\n",
              "      <td>875.85</td>\n",
              "      <td>881.88</td>\n",
              "      <td>2309591</td>\n",
              "      <td>2.036781e+14</td>\n",
              "      <td>67035</td>\n",
              "      <td>1393132</td>\n",
              "      <td>0.6032</td>\n",
              "    </tr>\n",
              "    <tr>\n",
              "      <th>3</th>\n",
              "      <td>2015-01-06</td>\n",
              "      <td>RELIANCE</td>\n",
              "      <td>EQ</td>\n",
              "      <td>875.85</td>\n",
              "      <td>870.0</td>\n",
              "      <td>873.00</td>\n",
              "      <td>832.00</td>\n",
              "      <td>832.50</td>\n",
              "      <td>836.10</td>\n",
              "      <td>847.60</td>\n",
              "      <td>4258043</td>\n",
              "      <td>3.609133e+14</td>\n",
              "      <td>120767</td>\n",
              "      <td>2353273</td>\n",
              "      <td>0.5527</td>\n",
              "    </tr>\n",
              "    <tr>\n",
              "      <th>4</th>\n",
              "      <td>2015-01-07</td>\n",
              "      <td>RELIANCE</td>\n",
              "      <td>EQ</td>\n",
              "      <td>836.10</td>\n",
              "      <td>837.1</td>\n",
              "      <td>858.80</td>\n",
              "      <td>837.00</td>\n",
              "      <td>858.00</td>\n",
              "      <td>854.30</td>\n",
              "      <td>849.81</td>\n",
              "      <td>4736315</td>\n",
              "      <td>4.024972e+14</td>\n",
              "      <td>125939</td>\n",
              "      <td>2885468</td>\n",
              "      <td>0.6092</td>\n",
              "    </tr>\n",
              "  </tbody>\n",
              "</table>\n",
              "</div>"
            ],
            "text/plain": [
              "        Date    Symbol Series  ...  Trades  Deliverable Volume  %Deliverble\n",
              "0 2015-01-01  RELIANCE     EQ  ...   16263              286377       0.4227\n",
              "1 2015-01-02  RELIANCE     EQ  ...   31269             1048543       0.6257\n",
              "2 2015-01-05  RELIANCE     EQ  ...   67035             1393132       0.6032\n",
              "3 2015-01-06  RELIANCE     EQ  ...  120767             2353273       0.5527\n",
              "4 2015-01-07  RELIANCE     EQ  ...  125939             2885468       0.6092\n",
              "\n",
              "[5 rows x 15 columns]"
            ]
          },
          "metadata": {
            "tags": []
          },
          "execution_count": 5
        }
      ]
    },
    {
      "cell_type": "markdown",
      "metadata": {
        "id": "OdRAS5HEWF3u"
      },
      "source": [
        "Visualising the stock price data of Reliance Industries Limited (**RELIANCE**) from **January 2015** to **August 2020**. Data is plotted for the day's close price."
      ]
    },
    {
      "cell_type": "code",
      "metadata": {
        "id": "tnYRCUTkxfSD",
        "colab": {
          "base_uri": "https://localhost:8080/",
          "height": 513
        },
        "outputId": "11187fc6-05b2-44ed-80cc-d02e2b5e1674"
      },
      "source": [
        "# Visualize the plot\n",
        "plt.figure(figsize=(20,8))\n",
        "plt.plot(data['Date'],data['Close'])\n",
        "plt.title('Historical Stock Value')\n",
        "plt.xlabel('Date')\n",
        "plt.ylabel('Stock Price')\n",
        "plt.show()"
      ],
      "execution_count": null,
      "outputs": [
        {
          "output_type": "display_data",
          "data": {
            "image/png": "[encoded data removed]",
            "text/plain": [
              "<Figure size 1440x576 with 1 Axes>"
            ]
          },
          "metadata": {
            "tags": [],
            "needs_background": "light"
          }
        }
      ]
    },
    {
      "cell_type": "markdown",
      "metadata": {
        "id": "_sFvNm4dWnYJ"
      },
      "source": [
        "Processing the raw data to only include relevant columns in the final dataframe. Relevant columns are Date of observaton, Open price, Highest price of the day, Lowest price of the day, Close price."
      ]
    },
    {
      "cell_type": "code",
      "metadata": {
        "id": "4yFZylMdEQyO",
        "colab": {
          "base_uri": "https://localhost:8080/",
          "height": 204
        },
        "outputId": "f6db03dc-558e-4b42-b6e1-3036e96eabeb"
      },
      "source": [
        "# Create new dataframe with only relevant columns\n",
        "stk_data = pd.DataFrame(columns = ['Date', 'Open', 'High', 'Low', 'Close'])\n",
        "stk_data['Date'] = data['Date']\n",
        "stk_data['Open'] = data['Open']\n",
        "stk_data['High'] = data['High']\n",
        "stk_data['Low'] = data['Low']\n",
        "stk_data['Close'] = data['Close']\n",
        "stk_data.head()"
      ],
      "execution_count": null,
      "outputs": [
        {
          "output_type": "execute_result",
          "data": {
            "text/html": [
              "<div>\n",
              "<style scoped>\n",
              "    .dataframe tbody tr th:only-of-type {\n",
              "        vertical-align: middle;\n",
              "    }\n",
              "\n",
              "    .dataframe tbody tr th {\n",
              "        vertical-align: top;\n",
              "    }\n",
              "\n",
              "    .dataframe thead th {\n",
              "        text-align: right;\n",
              "    }\n",
              "</style>\n",
              "<table border=\"1\" class=\"dataframe\">\n",
              "  <thead>\n",
              "    <tr style=\"text-align: right;\">\n",
              "      <th></th>\n",
              "      <th>Date</th>\n",
              "      <th>Open</th>\n",
              "      <th>High</th>\n",
              "      <th>Low</th>\n",
              "      <th>Close</th>\n",
              "    </tr>\n",
              "  </thead>\n",
              "  <tbody>\n",
              "    <tr>\n",
              "      <th>0</th>\n",
              "      <td>2015-01-01</td>\n",
              "      <td>886.3</td>\n",
              "      <td>892.00</td>\n",
              "      <td>883.65</td>\n",
              "      <td>887.90</td>\n",
              "    </tr>\n",
              "    <tr>\n",
              "      <th>1</th>\n",
              "      <td>2015-01-02</td>\n",
              "      <td>888.1</td>\n",
              "      <td>896.05</td>\n",
              "      <td>884.30</td>\n",
              "      <td>885.55</td>\n",
              "    </tr>\n",
              "    <tr>\n",
              "      <th>2</th>\n",
              "      <td>2015-01-05</td>\n",
              "      <td>885.0</td>\n",
              "      <td>890.90</td>\n",
              "      <td>874.10</td>\n",
              "      <td>875.85</td>\n",
              "    </tr>\n",
              "    <tr>\n",
              "      <th>3</th>\n",
              "      <td>2015-01-06</td>\n",
              "      <td>870.0</td>\n",
              "      <td>873.00</td>\n",
              "      <td>832.00</td>\n",
              "      <td>836.10</td>\n",
              "    </tr>\n",
              "    <tr>\n",
              "      <th>4</th>\n",
              "      <td>2015-01-07</td>\n",
              "      <td>837.1</td>\n",
              "      <td>858.80</td>\n",
              "      <td>837.00</td>\n",
              "      <td>854.30</td>\n",
              "    </tr>\n",
              "  </tbody>\n",
              "</table>\n",
              "</div>"
            ],
            "text/plain": [
              "        Date   Open    High     Low   Close\n",
              "0 2015-01-01  886.3  892.00  883.65  887.90\n",
              "1 2015-01-02  888.1  896.05  884.30  885.55\n",
              "2 2015-01-05  885.0  890.90  874.10  875.85\n",
              "3 2015-01-06  870.0  873.00  832.00  836.10\n",
              "4 2015-01-07  837.1  858.80  837.00  854.30"
            ]
          },
          "metadata": {
            "tags": []
          },
          "execution_count": 7
        }
      ]
    },
    {
      "cell_type": "markdown",
      "metadata": {
        "id": "jI7hK55eXjcR"
      },
      "source": [
        "After the data is cleaned, we proceed by splitting it in the ratio of 4:1 for training and testing the model respectively. After splitting, the data is normalized using its mean and standard deviation."
      ]
    },
    {
      "cell_type": "code",
      "metadata": {
        "id": "_uJ2_lkVEynN"
      },
      "source": [
        "# Define the training set\n",
        "percent_training: float = 0.80\n",
        "num_training_samples = int(np.ceil(percent_training*len(stk_data))) # number of training samples in int\n",
        "training_set = stk_data.iloc[:num_training_samples, 4:5].values # Extract the Close values for training data\n",
        "\n",
        "#Define the test data\n",
        "num_testing_samples: int = len(stk_data) - num_training_samples # number of test samples in int \n",
        "testing_set = stk_data.iloc[-num_testing_samples:, 4:5].values # Extract the Close values for test data"
      ],
      "execution_count": null,
      "outputs": []
    },
    {
      "cell_type": "code",
      "metadata": {
        "id": "q_YpY7yDEzLY"
      },
      "source": [
        "# Scale training data\n",
        "scaler = StandardScaler() # MinMaxScaler(feature_range = (0, 1))\n",
        "training_set_scaled = scaler.fit_transform(training_set) #2D (num_training_samples, 1)\n",
        "testing_set_scaled = scaler.transform(testing_set) # 2D ndarray (num_testing_samples, 1)"
      ],
      "execution_count": null,
      "outputs": []
    },
    {
      "cell_type": "code",
      "metadata": {
        "id": "xTIu3HL6KVTy",
        "colab": {
          "base_uri": "https://localhost:8080/"
        },
        "outputId": "84032ee0-2ed9-4588-c06d-f8b1cf950ece"
      },
      "source": [
        "# Create [X]_train, [X]_test and [Y]_train, [Y]_test for model training and testing\n",
        "\n",
        "sequence_length: int = 90 # Number of x_i for each y_i\n",
        "\n",
        "x_train = np.array([training_set_scaled[i - sequence_length:i, 0] for i in range(sequence_length, len(training_set_scaled))]) \n",
        "x_train = np.reshape(x_train, (x_train.shape[0], x_train.shape[1], 1)) # 3D training set (num_training_samples, sequence_length, 1) \n",
        "\n",
        "x_test = np.array([testing_set_scaled[i - sequence_length:i, 0] for i in range(sequence_length, len(testing_set_scaled))])\n",
        "x_test = np.reshape(x_test, (x_test.shape[0], x_test.shape[1], 1)) #3D test set (num_testing_samples, sequence_length, 1)\n",
        "\n",
        "y_train = np.array([training_set_scaled[i, 0] for i in range(sequence_length, len(training_set_scaled))]) # 2D (num_training_samples, 1)\n",
        "y_test = np.array([testing_set_scaled[i, 0] for i in range(sequence_length, len(testing_set_scaled))]) # 2D (num_testing_samples, 1)\n",
        "y_test = np.reshape(y_test, (y_test.shape[0])) # 1D (num_testing_samples, )\n",
        "\n",
        "print('x_train shape:', x_train.shape, '\\n', 'x_test shape:', x_test.shape, '\\n', 'y_train shape:', y_train.shape, '\\n', 'y_test shape:', y_test.shape)"
      ],
      "execution_count": null,
      "outputs": [
        {
          "output_type": "stream",
          "text": [
            "x_train shape: (1031, 90, 1) \n",
            " x_test shape: (190, 90, 1) \n",
            " y_train shape: (1031,) \n",
            " y_test shape: (190,)\n"
          ],
          "name": "stdout"
        }
      ]
    },
    {
      "cell_type": "markdown",
      "metadata": {
        "id": "UPfewGPfOaww"
      },
      "source": [
        "#**Model Training**"
      ]
    },
    {
      "cell_type": "code",
      "metadata": {
        "id": "HqxCsyAzNS-h",
        "colab": {
          "base_uri": "https://localhost:8080/"
        },
        "outputId": "1d6607bf-8c09-4adb-fc8c-f0934184a187"
      },
      "source": [
        "# Build LSTM Model\n",
        "epochs: int = 80\n",
        "batch_size: int = 32\n",
        "\n",
        "model = tf.keras.models.Sequential([\n",
        "  tf.keras.layers.LSTM(32, return_sequences=False),\n",
        "  tf.keras.layers.Dense(32),\n",
        "  tf.keras.layers.Dense(16),\n",
        "  tf.keras.layers.Dense(1),\n",
        "])\n",
        "model.add(Dense(1))\n",
        "model.compile(loss = 'mean_squared_error', \n",
        "             optimizer = 'adam', \n",
        "             )\n",
        "\n",
        "# Early Stopping\n",
        "# Check at end of every epoch whether the loss is no longer decreasing, considering the min_delta (0 by default) and patience if applicable. \n",
        "# Once it's found no longer decreasing, model.stop_training is marked True and the training terminates.\n",
        "early_stopping = EarlyStopping(monitor='val_loss', \n",
        "                               mode='min', \n",
        "                               verbose = 1, # Shows progress of each epoch\n",
        "                               patience = 9, # Check for 9 more iterations after loss decrement stalls\n",
        "                               restore_best_weights = False\n",
        "                               )\n",
        "# Loss history\n",
        "loss_history = model.fit(x_train,\n",
        "          y_train,\n",
        "          epochs = epochs, \n",
        "          batch_size = batch_size,\n",
        "          verbose = 2, \n",
        "          validation_split = 0.20,\n",
        "          # validation_data = (x_test, y_test),\n",
        "          callbacks = [early_stopping],\n",
        "          )\n",
        "\n",
        "model.summary() # Get model summary\n",
        "loss = model.evaluate(x_test, y_test, batch_size = batch_size) # Evaluate model on test data\n",
        "\n",
        "# early_stopping.stopped_epoch returns 0 if training didn't stop early.\n",
        "if early_stopping.stopped_epoch != 0:\n",
        "  print('Training stopped after',early_stopping.stopped_epoch,'epochs.')"
      ],
      "execution_count": null,
      "outputs": [
        {
          "output_type": "stream",
          "text": [
            "Epoch 1/80\n",
            "26/26 - 1s - loss: 0.3333 - val_loss: 0.2154\n",
            "Epoch 2/80\n",
            "26/26 - 1s - loss: 0.0846 - val_loss: 0.0343\n",
            "Epoch 3/80\n",
            "26/26 - 1s - loss: 0.0669 - val_loss: 0.0294\n",
            "Epoch 4/80\n",
            "26/26 - 1s - loss: 0.0571 - val_loss: 0.0389\n",
            "Epoch 5/80\n",
            "26/26 - 1s - loss: 0.0509 - val_loss: 0.0254\n",
            "Epoch 6/80\n",
            "26/26 - 1s - loss: 0.0475 - val_loss: 0.0254\n",
            "Epoch 7/80\n",
            "26/26 - 1s - loss: 0.0473 - val_loss: 0.0309\n",
            "Epoch 8/80\n",
            "26/26 - 1s - loss: 0.0464 - val_loss: 0.0258\n",
            "Epoch 9/80\n",
            "26/26 - 1s - loss: 0.0418 - val_loss: 0.0238\n",
            "Epoch 10/80\n",
            "26/26 - 1s - loss: 0.0430 - val_loss: 0.0227\n",
            "Epoch 11/80\n",
            "26/26 - 1s - loss: 0.0466 - val_loss: 0.0453\n",
            "Epoch 12/80\n",
            "26/26 - 1s - loss: 0.0445 - val_loss: 0.0262\n",
            "Epoch 13/80\n",
            "26/26 - 1s - loss: 0.0497 - val_loss: 0.0399\n",
            "Epoch 14/80\n",
            "26/26 - 1s - loss: 0.0429 - val_loss: 0.0282\n",
            "Epoch 15/80\n",
            "26/26 - 1s - loss: 0.0391 - val_loss: 0.0218\n",
            "Epoch 16/80\n",
            "26/26 - 1s - loss: 0.0377 - val_loss: 0.0222\n",
            "Epoch 17/80\n",
            "26/26 - 1s - loss: 0.0388 - val_loss: 0.0217\n",
            "Epoch 18/80\n",
            "26/26 - 1s - loss: 0.0381 - val_loss: 0.0243\n",
            "Epoch 19/80\n",
            "26/26 - 1s - loss: 0.0360 - val_loss: 0.0228\n",
            "Epoch 20/80\n",
            "26/26 - 1s - loss: 0.0375 - val_loss: 0.0181\n",
            "Epoch 21/80\n",
            "26/26 - 1s - loss: 0.0368 - val_loss: 0.0287\n",
            "Epoch 22/80\n",
            "26/26 - 1s - loss: 0.0363 - val_loss: 0.0178\n",
            "Epoch 23/80\n",
            "26/26 - 1s - loss: 0.0355 - val_loss: 0.0228\n",
            "Epoch 24/80\n",
            "26/26 - 1s - loss: 0.0383 - val_loss: 0.0257\n",
            "Epoch 25/80\n",
            "26/26 - 1s - loss: 0.0358 - val_loss: 0.0353\n",
            "Epoch 26/80\n",
            "26/26 - 1s - loss: 0.0393 - val_loss: 0.0235\n",
            "Epoch 27/80\n",
            "26/26 - 1s - loss: 0.0352 - val_loss: 0.0169\n",
            "Epoch 28/80\n",
            "26/26 - 1s - loss: 0.0355 - val_loss: 0.0219\n",
            "Epoch 29/80\n",
            "26/26 - 1s - loss: 0.0350 - val_loss: 0.0185\n",
            "Epoch 30/80\n",
            "26/26 - 1s - loss: 0.0383 - val_loss: 0.0212\n",
            "Epoch 31/80\n",
            "26/26 - 1s - loss: 0.0335 - val_loss: 0.0167\n",
            "Epoch 32/80\n",
            "26/26 - 1s - loss: 0.0342 - val_loss: 0.0263\n",
            "Epoch 33/80\n",
            "26/26 - 1s - loss: 0.0353 - val_loss: 0.0275\n",
            "Epoch 34/80\n",
            "26/26 - 1s - loss: 0.0382 - val_loss: 0.0285\n",
            "Epoch 35/80\n",
            "26/26 - 1s - loss: 0.0333 - val_loss: 0.0184\n",
            "Epoch 36/80\n",
            "26/26 - 1s - loss: 0.0361 - val_loss: 0.0160\n",
            "Epoch 37/80\n",
            "26/26 - 1s - loss: 0.0351 - val_loss: 0.0231\n",
            "Epoch 38/80\n",
            "26/26 - 1s - loss: 0.0357 - val_loss: 0.0196\n",
            "Epoch 39/80\n",
            "26/26 - 1s - loss: 0.0389 - val_loss: 0.0165\n",
            "Epoch 40/80\n",
            "26/26 - 1s - loss: 0.0328 - val_loss: 0.0226\n",
            "Epoch 41/80\n",
            "26/26 - 1s - loss: 0.0352 - val_loss: 0.0174\n",
            "Epoch 42/80\n",
            "26/26 - 1s - loss: 0.0336 - val_loss: 0.0216\n",
            "Epoch 43/80\n",
            "26/26 - 1s - loss: 0.0324 - val_loss: 0.0227\n",
            "Epoch 44/80\n",
            "26/26 - 1s - loss: 0.0341 - val_loss: 0.0263\n",
            "Epoch 45/80\n",
            "26/26 - 1s - loss: 0.0317 - val_loss: 0.0218\n",
            "Epoch 00045: early stopping\n",
            "Model: \"sequential_1\"\n",
            "_________________________________________________________________\n",
            "Layer (type)                 Output Shape              Param #   \n",
            "=================================================================\n",
            "lstm_1 (LSTM)                (None, 32)                4352      \n",
            "_________________________________________________________________\n",
            "dense_4 (Dense)              (None, 32)                1056      \n",
            "_________________________________________________________________\n",
            "dense_5 (Dense)              (None, 16)                528       \n",
            "_________________________________________________________________\n",
            "dense_6 (Dense)              (None, 1)                 17        \n",
            "_________________________________________________________________\n",
            "dense_7 (Dense)              (None, 1)                 2         \n",
            "=================================================================\n",
            "Total params: 5,955\n",
            "Trainable params: 5,955\n",
            "Non-trainable params: 0\n",
            "_________________________________________________________________\n",
            "6/6 [==============================] - 0s 8ms/step - loss: 0.2801\n",
            "Training stopped after 44 epochs.\n"
          ],
          "name": "stdout"
        }
      ]
    },
    {
      "cell_type": "code",
      "metadata": {
        "id": "2SnpWjgrWXAZ",
        "colab": {
          "base_uri": "https://localhost:8080/",
          "height": 295
        },
        "outputId": "c0af2675-f8f1-4761-95af-7eb6b43c4999"
      },
      "source": [
        "plt.plot(loss_history.history['loss'])\n",
        "plt.plot(loss_history.history['val_loss'])\n",
        "plt.title('Model Loss vs. Epoch')\n",
        "plt.ylabel('loss')\n",
        "plt.xlabel('Epoch')\n",
        "plt.legend(['Train', 'Validation'], loc='upper left')\n",
        "plt.show()"
      ],
      "execution_count": null,
      "outputs": [
        {
          "output_type": "display_data",
          "data": {
            "image/png": "[encoded data removed]",
            "text/plain": [
              "<Figure size 432x288 with 1 Axes>"
            ]
          },
          "metadata": {
            "tags": [],
            "needs_background": "light"
          }
        }
      ]
    },
    {
      "cell_type": "markdown",
      "metadata": {
        "id": "ReaePWobO8S_"
      },
      "source": [
        "# **Prediction**"
      ]
    },
    {
      "cell_type": "code",
      "metadata": {
        "id": "4BlEg0beZpu3"
      },
      "source": [
        "training_prediction = model.predict(x_train)\n",
        "training_prediction = scaler.inverse_transform(training_prediction) # Get back data in unscaled (not normalized) data\n",
        "\n",
        "train_dates = stk_data['Date'][sequence_length: sequence_length + x_train.shape[0]]"
      ],
      "execution_count": null,
      "outputs": []
    },
    {
      "cell_type": "code",
      "metadata": {
        "id": "EzP08HNzW6IE"
      },
      "source": [
        "test_prediction = model.predict(x_test)\n",
        "\n",
        "y_test2 = np.reshape(y_test, (y_test.shape[0], 1))\n",
        "\n",
        "test_dates = stk_data['Date'][-x_test.shape[0]:]"
      ],
      "execution_count": null,
      "outputs": []
    },
    {
      "cell_type": "code",
      "metadata": {
        "id": "dedhK-UoY_w1",
        "colab": {
          "base_uri": "https://localhost:8080/",
          "height": 547
        },
        "outputId": "2b586989-cc74-4a2c-b1f2-41d207a90ec6"
      },
      "source": [
        "print('Gaps in prediction line since model requires minimum sequence length of input to predict')\n",
        "\n",
        "assert y_test2.shape == test_prediction.shape\n",
        "print('The MSE loss for test data:', sklearn.metrics.mean_squared_error(y_test2,test_prediction))\n",
        "\n",
        "test_prediction = scaler.inverse_transform(test_prediction) # Get back data in unscaled (not normalized) data\n",
        "y_test2 = scaler.inverse_transform(y_test2) # Get back data in unscaled (not normalized) data\n",
        "\n",
        "# Visualizing test results\n",
        "plt.figure(figsize=(20,8))\n",
        "\n",
        "plt.plot(data['Date'],data['Close'],'-', linewidth = 2, color = 'blue', label = 'Actual Close')\n",
        "\n",
        "plt.plot(train_dates, training_prediction, '-', linewidth = 2.5 ,color = 'red', label = 'Predicted Training Close')\n",
        "plt.plot(test_dates, test_prediction, '--', linewidth = 2.5 ,color = 'red', label = 'Predicted Test Close')\n",
        "\n",
        "ax = plt.gca()\n",
        "\n",
        "plt.title('Close Prediction')\n",
        "plt.xlabel('Time')\n",
        "plt.ylabel('RELIANCE Close')\n",
        "plt.yticks(np.arange(700, 2300, 50))\n",
        "plt.grid(True, which= 'both')\n",
        "plt.legend()\n",
        "plt.show()"
      ],
      "execution_count": null,
      "outputs": [
        {
          "output_type": "stream",
          "text": [
            "Gaps in prediction line since model requires minimum sequence length of input to predict\n",
            "The MSE loss for test data: 0.2800573875731828\n"
          ],
          "name": "stdout"
        },
        {
          "output_type": "display_data",
          "data": {
            "image/png": "[encoded data removed]",
            "text/plain": [
              "<Figure size 1440x576 with 1 Axes>"
            ]
          },
          "metadata": {
            "tags": [],
            "needs_background": "light"
          }
        }
      ]
    },
    {
      "cell_type": "markdown",
      "metadata": {
        "id": "I54W210YOfhQ"
      },
      "source": [
        "# **MISCELLANEOUS**"
      ]
    },
    {
      "cell_type": "code",
      "metadata": {
        "id": "Jey7gcQXLmjt",
        "colab": {
          "base_uri": "https://localhost:8080/",
          "height": 1000
        },
        "outputId": "a940c1cb-d5e5-488a-cdc8-f15c3abbd361"
      },
      "source": [
        "\n",
        "# Build LSTM Model\n",
        "epochs: int = 80\n",
        "batch_size: int = 32\n",
        "\n",
        "#LSTM_1 = LSTM(units = 32, #initially 5\n",
        "#    activation = 'relu', #initially tanh\n",
        "#   input_shape = (x_train.shape[1], 1),\n",
        "#   return_sequences = False,\n",
        "#   )\n",
        "# LSTM_2 = LSTM(\n",
        "#     units = 10,\n",
        "#     input_shape = ( sequence_length, 5)\n",
        "#     )\n",
        "#model = Sequential()\n",
        "#model.add(LSTM_1) # Output shape: (batch_size, sequence_length, units)\n",
        "#model.add(Dropout(0.4))\n",
        "# model.add(LSTM_2) # Output shape: \n",
        "# model.add(Dropout(0.2))\n",
        "model = tf.keras.models.Sequential([\n",
        "  #tf.keras.layers.LSTM(32, return_sequences=True),\n",
        "  #tf.keras.layers.Dropout(0.2),\n",
        "  tf.keras.layers.LSTM(32, return_sequences=False),\n",
        "  #tf.keras.layers.Bidirectional(tf.keras.layers.LSTM(32)),\n",
        "  tf.keras.layers.Dense(32),\n",
        "  tf.keras.layers.Dense(16),\n",
        "  tf.keras.layers.Dense(1),\n",
        "])\n",
        "model.add(Dense(1))\n",
        "model.compile(loss = 'mean_squared_error', \n",
        "             optimizer = 'adam', \n",
        "             )\n",
        "\n",
        "# Early Stopping\n",
        "# Check at end of every epoch whether the loss is no longer decreasing, considering the min_delta (0 by default) and patience if applicable. \n",
        "# Once it's found no longer decreasing, model.stop_training is marked True and the training terminates.\n",
        "early_stopping = EarlyStopping(monitor='val_loss', \n",
        "                               mode='min', \n",
        "                               verbose = 1, # Shows progress of each epoch\n",
        "                               patience = 9, # Check for 9 more iterations after loss decrement stalls\n",
        "                               restore_best_weights = True\n",
        "                               )\n",
        "# Loss history\n",
        "loss_history = model.fit(x_train,\n",
        "          y_train,\n",
        "          epochs = epochs, \n",
        "          batch_size = batch_size,\n",
        "          verbose = 2, \n",
        "          validation_split = 0.20,\n",
        "          # validation_data = (x_test, y_test),\n",
        "          callbacks = [early_stopping],\n",
        "          )\n",
        "\n",
        "model.summary() # Get model summary\n",
        "loss = model.evaluate(x_test, y_test, batch_size = batch_size) # Evaluate model on test data\n",
        "\n",
        "# early_stopping.stopped_epoch returns 0 if training didn't stop early.\n",
        "if early_stopping.stopped_epoch != 0:\n",
        "  print('Training stopped after',early_stopping.stopped_epoch,'epochs.')\n",
        "\n",
        "#############################################################################################\n",
        "\n",
        "plt.plot(loss_history.history['loss'])\n",
        "plt.plot(loss_history.history['val_loss'])\n",
        "plt.title('Model Loss vs. Epoch')\n",
        "plt.ylabel('loss')\n",
        "plt.xlabel('Epoch')\n",
        "plt.legend(['Train', 'Validation'], loc='upper left')\n",
        "plt.show()\n",
        "\n",
        "#############################################################################################\n",
        "\n",
        "prediction = model.predict(x_test)\n",
        "prediction = scaler.inverse_transform(prediction) # Get back data in unscaled (not normalized) data\n",
        "\n",
        "y_test2 = np.reshape(y_test, (y_test.shape[0], 1))\n",
        "y_test = scaler.inverse_transform(y_test2) # Get back data in unscaled (not normalized) data\n",
        "\n",
        "test_dates = stk_data['Date'][-x_test.shape[0]:]\n",
        "\n",
        "#############################################################################################\n",
        "\n",
        "# Visualizing test results\n",
        "plt.figure(figsize=(8,8))\n",
        "plt.plot_date(test_dates, y_test, '-', linewidth = 2, color = 'red', label = 'Actual Close')\n",
        "plt.plot(test_dates, prediction, color = 'blue', label = 'Predicted Close')\n",
        "plt.title('Close Prediction')\n",
        "plt.xlabel('Time')\n",
        "plt.ylabel('RELIANCE Close')\n",
        "plt.legend()\n",
        "plt.show()"
      ],
      "execution_count": null,
      "outputs": [
        {
          "output_type": "stream",
          "text": [
            "Epoch 1/80\n",
            "26/26 - 1s - loss: 0.0715 - val_loss: 0.0045\n",
            "Epoch 2/80\n",
            "26/26 - 1s - loss: 0.0125 - val_loss: 0.0035\n",
            "Epoch 3/80\n",
            "26/26 - 1s - loss: 0.0077 - val_loss: 0.0043\n",
            "Epoch 4/80\n",
            "26/26 - 1s - loss: 0.0055 - val_loss: 0.0029\n",
            "Epoch 5/80\n",
            "26/26 - 1s - loss: 0.0046 - val_loss: 0.0020\n",
            "Epoch 6/80\n",
            "26/26 - 1s - loss: 0.0039 - val_loss: 0.0017\n",
            "Epoch 7/80\n",
            "26/26 - 1s - loss: 0.0036 - val_loss: 0.0017\n",
            "Epoch 8/80\n",
            "26/26 - 1s - loss: 0.0032 - val_loss: 0.0024\n",
            "Epoch 9/80\n",
            "26/26 - 1s - loss: 0.0035 - val_loss: 0.0016\n",
            "Epoch 10/80\n",
            "26/26 - 1s - loss: 0.0037 - val_loss: 0.0016\n",
            "Epoch 11/80\n",
            "26/26 - 1s - loss: 0.0030 - val_loss: 0.0015\n",
            "Epoch 12/80\n",
            "26/26 - 1s - loss: 0.0029 - val_loss: 0.0017\n",
            "Epoch 13/80\n",
            "26/26 - 1s - loss: 0.0028 - val_loss: 0.0015\n",
            "Epoch 14/80\n",
            "26/26 - 1s - loss: 0.0028 - val_loss: 0.0020\n",
            "Epoch 15/80\n",
            "26/26 - 1s - loss: 0.0028 - val_loss: 0.0020\n",
            "Epoch 16/80\n",
            "26/26 - 1s - loss: 0.0030 - val_loss: 0.0019\n",
            "Epoch 17/80\n",
            "26/26 - 1s - loss: 0.0026 - val_loss: 0.0028\n",
            "Epoch 18/80\n",
            "26/26 - 1s - loss: 0.0028 - val_loss: 0.0013\n",
            "Epoch 19/80\n",
            "26/26 - 1s - loss: 0.0026 - val_loss: 0.0016\n",
            "Epoch 20/80\n",
            "26/26 - 1s - loss: 0.0025 - val_loss: 0.0013\n",
            "Epoch 21/80\n",
            "26/26 - 1s - loss: 0.0028 - val_loss: 0.0014\n",
            "Epoch 22/80\n",
            "26/26 - 1s - loss: 0.0023 - val_loss: 0.0013\n",
            "Epoch 23/80\n",
            "26/26 - 1s - loss: 0.0024 - val_loss: 0.0019\n",
            "Epoch 24/80\n",
            "26/26 - 1s - loss: 0.0024 - val_loss: 0.0012\n",
            "Epoch 25/80\n",
            "26/26 - 1s - loss: 0.0024 - val_loss: 0.0012\n",
            "Epoch 26/80\n",
            "26/26 - 1s - loss: 0.0023 - val_loss: 0.0012\n",
            "Epoch 27/80\n",
            "26/26 - 1s - loss: 0.0022 - val_loss: 0.0011\n",
            "Epoch 28/80\n",
            "26/26 - 1s - loss: 0.0021 - val_loss: 0.0011\n",
            "Epoch 29/80\n",
            "26/26 - 1s - loss: 0.0022 - val_loss: 0.0013\n",
            "Epoch 30/80\n",
            "26/26 - 1s - loss: 0.0021 - val_loss: 0.0012\n",
            "Epoch 31/80\n",
            "26/26 - 1s - loss: 0.0021 - val_loss: 0.0011\n",
            "Epoch 32/80\n",
            "26/26 - 1s - loss: 0.0022 - val_loss: 0.0012\n",
            "Epoch 33/80\n",
            "26/26 - 1s - loss: 0.0021 - val_loss: 0.0019\n",
            "Epoch 34/80\n",
            "26/26 - 1s - loss: 0.0022 - val_loss: 0.0012\n",
            "Epoch 35/80\n",
            "26/26 - 1s - loss: 0.0020 - val_loss: 0.0012\n",
            "Epoch 36/80\n",
            "26/26 - 1s - loss: 0.0019 - val_loss: 0.0024\n",
            "Epoch 37/80\n",
            "26/26 - 1s - loss: 0.0023 - val_loss: 0.0013\n",
            "Epoch 38/80\n",
            "26/26 - 1s - loss: 0.0020 - val_loss: 0.0010\n",
            "Epoch 39/80\n",
            "26/26 - 1s - loss: 0.0020 - val_loss: 0.0013\n",
            "Epoch 40/80\n",
            "26/26 - 1s - loss: 0.0019 - val_loss: 0.0013\n",
            "Epoch 41/80\n",
            "26/26 - 1s - loss: 0.0020 - val_loss: 9.6763e-04\n",
            "Epoch 42/80\n",
            "26/26 - 1s - loss: 0.0022 - val_loss: 9.7392e-04\n",
            "Epoch 43/80\n",
            "26/26 - 1s - loss: 0.0019 - val_loss: 9.8664e-04\n",
            "Epoch 44/80\n",
            "26/26 - 1s - loss: 0.0019 - val_loss: 9.9323e-04\n",
            "Epoch 45/80\n",
            "26/26 - 1s - loss: 0.0020 - val_loss: 0.0012\n",
            "Epoch 46/80\n",
            "26/26 - 1s - loss: 0.0018 - val_loss: 9.8091e-04\n",
            "Epoch 47/80\n",
            "26/26 - 1s - loss: 0.0019 - val_loss: 0.0014\n",
            "Epoch 48/80\n",
            "26/26 - 1s - loss: 0.0019 - val_loss: 8.8789e-04\n",
            "Epoch 49/80\n",
            "26/26 - 1s - loss: 0.0018 - val_loss: 0.0011\n",
            "Epoch 50/80\n",
            "26/26 - 1s - loss: 0.0018 - val_loss: 8.5093e-04\n",
            "Epoch 51/80\n",
            "26/26 - 1s - loss: 0.0017 - val_loss: 9.9118e-04\n",
            "Epoch 52/80\n",
            "26/26 - 1s - loss: 0.0018 - val_loss: 0.0013\n",
            "Epoch 53/80\n",
            "26/26 - 1s - loss: 0.0018 - val_loss: 0.0016\n",
            "Epoch 54/80\n",
            "26/26 - 1s - loss: 0.0019 - val_loss: 0.0018\n",
            "Epoch 55/80\n",
            "26/26 - 1s - loss: 0.0018 - val_loss: 0.0013\n",
            "Epoch 56/80\n",
            "26/26 - 1s - loss: 0.0018 - val_loss: 8.1287e-04\n",
            "Epoch 57/80\n",
            "26/26 - 1s - loss: 0.0017 - val_loss: 8.4392e-04\n",
            "Epoch 58/80\n",
            "26/26 - 1s - loss: 0.0017 - val_loss: 0.0012\n",
            "Epoch 59/80\n",
            "26/26 - 1s - loss: 0.0019 - val_loss: 9.3225e-04\n",
            "Epoch 60/80\n",
            "26/26 - 1s - loss: 0.0017 - val_loss: 0.0014\n",
            "Epoch 61/80\n",
            "26/26 - 1s - loss: 0.0017 - val_loss: 8.1898e-04\n",
            "Epoch 62/80\n",
            "26/26 - 1s - loss: 0.0018 - val_loss: 8.8329e-04\n",
            "Epoch 63/80\n",
            "26/26 - 1s - loss: 0.0016 - val_loss: 9.4142e-04\n",
            "Epoch 64/80\n",
            "26/26 - 1s - loss: 0.0016 - val_loss: 0.0021\n",
            "Epoch 65/80\n",
            "Restoring model weights from the end of the best epoch.\n",
            "26/26 - 1s - loss: 0.0019 - val_loss: 9.5276e-04\n",
            "Epoch 00065: early stopping\n",
            "Model: \"sequential_9\"\n",
            "_________________________________________________________________\n",
            "Layer (type)                 Output Shape              Param #   \n",
            "=================================================================\n",
            "lstm_16 (LSTM)               (None, 32)                4352      \n",
            "_________________________________________________________________\n",
            "dense_21 (Dense)             (None, 32)                1056      \n",
            "_________________________________________________________________\n",
            "dense_22 (Dense)             (None, 16)                528       \n",
            "_________________________________________________________________\n",
            "dense_23 (Dense)             (None, 1)                 17        \n",
            "_________________________________________________________________\n",
            "dense_24 (Dense)             (None, 1)                 2         \n",
            "=================================================================\n",
            "Total params: 5,955\n",
            "Trainable params: 5,955\n",
            "Non-trainable params: 0\n",
            "_________________________________________________________________\n",
            "6/6 [==============================] - 0s 7ms/step - loss: 0.0014\n",
            "Training stopped after 64 epochs.\n"
          ],
          "name": "stdout"
        },
        {
          "output_type": "display_data",
          "data": {
            "image/png": "[encoded data removed]",
            "text/plain": [
              "<Figure size 432x288 with 1 Axes>"
            ]
          },
          "metadata": {
            "tags": [],
            "needs_background": "light"
          }
        },
        {
          "output_type": "display_data",
          "data": {
            "image/png": "[encoded data removed]",
            "text/plain": [
              "<Figure size 576x576 with 1 Axes>"
            ]
          },
          "metadata": {
            "tags": [],
            "needs_background": "light"
          }
        }
      ]
    },
    {
      "cell_type": "markdown",
      "metadata": {
        "id": "b4E8O4puVbYU"
      },
      "source": [
        "# **Neural ODE based prediction**\n",
        "We load Data of RELIANCE stocks again. Again, we clean and normalize it."
      ]
    },
    {
      "cell_type": "code",
      "metadata": {
        "id": "nzAaKJ85VlI-"
      },
      "source": [
        " '''\n",
        "=====ATTENTION=====\n",
        "nsepy.get_history gets caught in a infinite loop in google collab but works perfectly in local host Jupyter notebook.\n",
        "So for google colab, we import data from a csv file created from the same data on a Jupyter Notebook\n",
        "===================\n",
        "'''\n",
        "# For Jupyter Notebook only. Skip this cell for Google colab\n",
        "# Import data from NSEpy\n",
        "start_date = dt.datetime(2015,1,1)\n",
        "end_date = dt.datetime(2020,8,31)\n",
        "data = gh(symbol='RELIANCE',start = start_date, end = end_date)"
      ],
      "execution_count": null,
      "outputs": []
    },
    {
      "cell_type": "code",
      "metadata": {
        "id": "cwWh-tGIb6Z7",
        "colab": {
          "base_uri": "https://localhost:8080/",
          "height": 221
        },
        "outputId": "c1e1366d-32d9-4f3b-87e6-17bc4ac104cb"
      },
      "source": [
        "# For Google collab, import data from github\n",
        "data = pd.read_csv('https://raw.githubusercontent.com/adityajaas/CS771A_term_project/master/RELIANCE.csv')\n",
        "data.set_index(pd.Index(np.linspace(1, len(data.index), len(data.index), dtype = int)))\n",
        "data['Date']= pd.to_datetime(data['Date']) \n",
        "print(data.shape)\n",
        "data.head()"
      ],
      "execution_count": null,
      "outputs": [
        {
          "output_type": "stream",
          "text": [
            "(1401, 15)\n"
          ],
          "name": "stdout"
        },
        {
          "output_type": "execute_result",
          "data": {
            "text/html": [
              "<div>\n",
              "<style scoped>\n",
              "    .dataframe tbody tr th:only-of-type {\n",
              "        vertical-align: middle;\n",
              "    }\n",
              "\n",
              "    .dataframe tbody tr th {\n",
              "        vertical-align: top;\n",
              "    }\n",
              "\n",
              "    .dataframe thead th {\n",
              "        text-align: right;\n",
              "    }\n",
              "</style>\n",
              "<table border=\"1\" class=\"dataframe\">\n",
              "  <thead>\n",
              "    <tr style=\"text-align: right;\">\n",
              "      <th></th>\n",
              "      <th>Date</th>\n",
              "      <th>Symbol</th>\n",
              "      <th>Series</th>\n",
              "      <th>Prev Close</th>\n",
              "      <th>Open</th>\n",
              "      <th>High</th>\n",
              "      <th>Low</th>\n",
              "      <th>Last</th>\n",
              "      <th>Close</th>\n",
              "      <th>VWAP</th>\n",
              "      <th>Volume</th>\n",
              "      <th>Turnover</th>\n",
              "      <th>Trades</th>\n",
              "      <th>Deliverable Volume</th>\n",
              "      <th>%Deliverble</th>\n",
              "    </tr>\n",
              "  </thead>\n",
              "  <tbody>\n",
              "    <tr>\n",
              "      <th>0</th>\n",
              "      <td>2015-01-01</td>\n",
              "      <td>RELIANCE</td>\n",
              "      <td>EQ</td>\n",
              "      <td>891.15</td>\n",
              "      <td>886.3</td>\n",
              "      <td>892.00</td>\n",
              "      <td>883.65</td>\n",
              "      <td>888.00</td>\n",
              "      <td>887.90</td>\n",
              "      <td>887.62</td>\n",
              "      <td>677439</td>\n",
              "      <td>6.013059e+13</td>\n",
              "      <td>16263</td>\n",
              "      <td>286377</td>\n",
              "      <td>0.4227</td>\n",
              "    </tr>\n",
              "    <tr>\n",
              "      <th>1</th>\n",
              "      <td>2015-01-02</td>\n",
              "      <td>RELIANCE</td>\n",
              "      <td>EQ</td>\n",
              "      <td>887.90</td>\n",
              "      <td>888.1</td>\n",
              "      <td>896.05</td>\n",
              "      <td>884.30</td>\n",
              "      <td>884.95</td>\n",
              "      <td>885.55</td>\n",
              "      <td>889.39</td>\n",
              "      <td>1675827</td>\n",
              "      <td>1.490461e+14</td>\n",
              "      <td>31269</td>\n",
              "      <td>1048543</td>\n",
              "      <td>0.6257</td>\n",
              "    </tr>\n",
              "    <tr>\n",
              "      <th>2</th>\n",
              "      <td>2015-01-05</td>\n",
              "      <td>RELIANCE</td>\n",
              "      <td>EQ</td>\n",
              "      <td>885.55</td>\n",
              "      <td>885.0</td>\n",
              "      <td>890.90</td>\n",
              "      <td>874.10</td>\n",
              "      <td>875.55</td>\n",
              "      <td>875.85</td>\n",
              "      <td>881.88</td>\n",
              "      <td>2309591</td>\n",
              "      <td>2.036781e+14</td>\n",
              "      <td>67035</td>\n",
              "      <td>1393132</td>\n",
              "      <td>0.6032</td>\n",
              "    </tr>\n",
              "    <tr>\n",
              "      <th>3</th>\n",
              "      <td>2015-01-06</td>\n",
              "      <td>RELIANCE</td>\n",
              "      <td>EQ</td>\n",
              "      <td>875.85</td>\n",
              "      <td>870.0</td>\n",
              "      <td>873.00</td>\n",
              "      <td>832.00</td>\n",
              "      <td>832.50</td>\n",
              "      <td>836.10</td>\n",
              "      <td>847.60</td>\n",
              "      <td>4258043</td>\n",
              "      <td>3.609133e+14</td>\n",
              "      <td>120767</td>\n",
              "      <td>2353273</td>\n",
              "      <td>0.5527</td>\n",
              "    </tr>\n",
              "    <tr>\n",
              "      <th>4</th>\n",
              "      <td>2015-01-07</td>\n",
              "      <td>RELIANCE</td>\n",
              "      <td>EQ</td>\n",
              "      <td>836.10</td>\n",
              "      <td>837.1</td>\n",
              "      <td>858.80</td>\n",
              "      <td>837.00</td>\n",
              "      <td>858.00</td>\n",
              "      <td>854.30</td>\n",
              "      <td>849.81</td>\n",
              "      <td>4736315</td>\n",
              "      <td>4.024972e+14</td>\n",
              "      <td>125939</td>\n",
              "      <td>2885468</td>\n",
              "      <td>0.6092</td>\n",
              "    </tr>\n",
              "  </tbody>\n",
              "</table>\n",
              "</div>"
            ],
            "text/plain": [
              "        Date    Symbol Series  ...  Trades  Deliverable Volume  %Deliverble\n",
              "0 2015-01-01  RELIANCE     EQ  ...   16263              286377       0.4227\n",
              "1 2015-01-02  RELIANCE     EQ  ...   31269             1048543       0.6257\n",
              "2 2015-01-05  RELIANCE     EQ  ...   67035             1393132       0.6032\n",
              "3 2015-01-06  RELIANCE     EQ  ...  120767             2353273       0.5527\n",
              "4 2015-01-07  RELIANCE     EQ  ...  125939             2885468       0.6092\n",
              "\n",
              "[5 rows x 15 columns]"
            ]
          },
          "metadata": {
            "tags": []
          },
          "execution_count": 38
        }
      ]
    },
    {
      "cell_type": "code",
      "metadata": {
        "id": "DZzFCnpQb6_z",
        "colab": {
          "base_uri": "https://localhost:8080/",
          "height": 34
        },
        "outputId": "6d4ed9be-8556-44b7-a713-900b58bb71ea"
      },
      "source": [
        "# Create new dataframe with only relevant columns\n",
        "stk_data = pd.DataFrame(columns = ['Date', 'Open', 'High', 'Low', 'Close'])\n",
        "stk_data['Date'] = data['Date']\n",
        "stk_data['Open'] = data['Open']\n",
        "stk_data['High'] = data['High']\n",
        "stk_data['Low'] = data['Low']\n",
        "stk_data['Close'] = data['Close']\n",
        "stk_data.head()\n",
        "\n",
        "# Define the training set\n",
        "percent_training: float = 0.80\n",
        "num_training_samples = int(np.ceil(percent_training*len(stk_data))) # number of training samples in int\n",
        "training_set = stk_data.iloc[:num_training_samples, 4:5].values # Extract the Close values for training data\n",
        "\n",
        "#Define the test data\n",
        "num_testing_samples: int = len(stk_data) - num_training_samples # number of test samples in int \n",
        "testing_set = stk_data.iloc[-num_testing_samples:, 4:5].values # Extract the Close values for test data\n",
        "\n",
        "# Scale training data\n",
        "scaler = MinMaxScaler(feature_range = (0, 1))\n",
        "training_set_scaled = scaler.fit_transform(training_set) #2D (num_training_samples, 1)\n",
        "testing_set_scaled = scaler.transform(testing_set) # 2D ndarray (num_testing_samples, 1)\n",
        "\n",
        "print('Data cleaned, split, and normalized')"
      ],
      "execution_count": null,
      "outputs": [
        {
          "output_type": "stream",
          "text": [
            "Data cleaned, split, and normalized\n"
          ],
          "name": "stdout"
        }
      ]
    },
    {
      "cell_type": "code",
      "metadata": {
        "id": "Tkw_x9TbWzoZ",
        "colab": {
          "base_uri": "https://localhost:8080/",
          "height": 85
        },
        "outputId": "5280e3ca-8137-4286-ff19-a255c84d1bb1"
      },
      "source": [
        "# Create [X]_train, [X]_test and [Y]_train, [Y]_test for model training and testing\n",
        "\n",
        "sequence_length: int = 90 # Number of x_i for each y_i\n",
        "\n",
        "x_train = np.array([training_set_scaled[i - sequence_length:i, 0] for i in range(sequence_length, len(training_set_scaled))]) \n",
        "x_train = np.reshape(x_train, (x_train.shape[0], x_train.shape[1], 1)) # 3D training set (num_training_samples, sequence_length, 1) \n",
        "\n",
        "x_test = np.array([testing_set_scaled[i - sequence_length:i, 0] for i in range(sequence_length, len(testing_set_scaled))])\n",
        "x_test = np.reshape(x_test, (x_test.shape[0], x_test.shape[1], 1)) #3D test set (num_testing_samples, sequence_length, 1)\n",
        "\n",
        "y_train = np.array([training_set_scaled[i, 0] for i in range(sequence_length, len(training_set_scaled))]) # 2D (num_training_samples, 1)\n",
        "y_test = np.array([testing_set_scaled[i, 0] for i in range(sequence_length, len(testing_set_scaled))]) # 2D (num_testing_samples, 1)\n",
        "y_test = np.reshape(y_test, (y_test.shape[0])) # 1D (num_testing_samples, )\n",
        "\n",
        "print('x_train shape:', x_train.shape, '\\n', 'x_test shape:', x_test.shape, '\\n', 'y_train shape:', y_train.shape, '\\n', 'y_test shape:', y_test.shape)"
      ],
      "execution_count": null,
      "outputs": [
        {
          "output_type": "stream",
          "text": [
            "x_train shape: (1031, 90, 1) \n",
            " x_test shape: (190, 90, 1) \n",
            " y_train shape: (1031,) \n",
            " y_test shape: (190,)\n"
          ],
          "name": "stdout"
        }
      ]
    },
    {
      "cell_type": "code",
      "metadata": {
        "id": "pBN68xZlckpQ",
        "colab": {
          "base_uri": "https://localhost:8080/",
          "height": 136
        },
        "outputId": "170004b4-f8d6-4f69-82eb-371fa7e9be29"
      },
      "source": [
        "pip install torchdiffeq"
      ],
      "execution_count": null,
      "outputs": [
        {
          "output_type": "stream",
          "text": [
            "Collecting torchdiffeq\n",
            "  Downloading https://files.pythonhosted.org/packages/67/af/377e42c20058f4891dedc1827c1a6b7b16772a452d18097d05c1db06b338/torchdiffeq-0.1.1-py3-none-any.whl\n",
            "Requirement already satisfied: torch>=1.3.0 in /usr/local/lib/python3.6/dist-packages (from torchdiffeq) (1.6.0+cu101)\n",
            "Requirement already satisfied: future in /usr/local/lib/python3.6/dist-packages (from torch>=1.3.0->torchdiffeq) (0.16.0)\n",
            "Requirement already satisfied: numpy in /usr/local/lib/python3.6/dist-packages (from torch>=1.3.0->torchdiffeq) (1.18.5)\n",
            "Installing collected packages: torchdiffeq\n",
            "Successfully installed torchdiffeq-0.1.1\n"
          ],
          "name": "stdout"
        }
      ]
    },
    {
      "cell_type": "code",
      "metadata": {
        "id": "2zTtDM68Z47t",
        "colab": {
          "base_uri": "https://localhost:8080/",
          "height": 982
        },
        "outputId": "5d5a28e1-5b54-44ff-f8e5-d3e8940f6ede"
      },
      "source": [
        "!pip install git+https://github.com/google-research/torchsde.git \n",
        "import torch\n",
        "import torchsde\n",
        "import timeit\n",
        "class SDE(torch.nn.Module):\n",
        "    noise_type = 'general'\n",
        "    sde_type = 'ito'\n",
        "\n",
        "    def __init__(self):\n",
        "        super().__init__()\n",
        "        self.mu = torch.nn.Linear(d, \n",
        "                                  d)\n",
        "        self.sigma = torch.nn.Linear(d, \n",
        "                                     d * m)\n",
        "\n",
        "    def f(self, t, y):\n",
        "        return self.mu(y)  # shape (batch_size, state_size)\n",
        "\n",
        "    def g(self, t, y):\n",
        "        return self.sigma(y).view(batch_size, \n",
        "                                  d, \n",
        "                                  m)\n",
        "\n",
        "batch_size, d, m = 1031,90,90  # State dimension d, Brownian motion dimension m.\n",
        "geometric_bm = SDE()\n",
        "#y0 = torch.Tensor(x_train)  # Initial state..\n",
        "ts = torch.linspace(0, 1, 20)\n",
        "ys = sdeint(geometric_bm, y0, ts)\n",
        "\n",
        "def time_func():\n",
        "    ys = sdeint(geometric_bm, y0, ts, adaptive=False, dt=ts[1], options={'trapezoidal_approx': False})\n",
        "    \n",
        "timeit.Timer(time_func).timeit(number=100) "
      ],
      "execution_count": null,
      "outputs": [
        {
          "output_type": "stream",
          "text": [
            "Collecting git+https://github.com/google-research/torchsde.git\n",
            "  Cloning https://github.com/google-research/torchsde.git to /tmp/pip-req-build-12rj_l68\n",
            "  Running command git clone -q https://github.com/google-research/torchsde.git /tmp/pip-req-build-12rj_l68\n",
            "  Installing build dependencies ... \u001b[?25l\u001b[?25hdone\n",
            "  Getting requirements to build wheel ... \u001b[?25l\u001b[?25hdone\n",
            "    Preparing wheel metadata ... \u001b[?25l\u001b[?25hdone\n",
            "Collecting boltons>=20.2.1\n",
            "\u001b[?25l  Downloading https://files.pythonhosted.org/packages/71/e1/e7979a4a6d4b296b5935e926549fff540f7670ddaf09bbf137e2b022c039/boltons-20.2.1-py2.py3-none-any.whl (170kB)\n",
            "\u001b[K     |████████████████████████████████| 174kB 2.7MB/s \n",
            "\u001b[?25hCollecting numpy>=1.19.1\n",
            "\u001b[?25l  Downloading https://files.pythonhosted.org/packages/87/86/753182c9085ba4936c0076269a571613387cdb77ae2bf537448bfd63472c/numpy-1.19.4-cp36-cp36m-manylinux2010_x86_64.whl (14.5MB)\n",
            "\u001b[K     |████████████████████████████████| 14.5MB 312kB/s \n",
            "\u001b[?25hRequirement already satisfied: torch>=1.6.0 in /usr/local/lib/python3.6/dist-packages (from torchsde==0.2.1) (1.7.0+cu101)\n",
            "Collecting scipy>=1.5.2\n",
            "\u001b[?25l  Downloading https://files.pythonhosted.org/packages/8a/14/d0475ceeaa047f3eae2dc7597c3d40228e1d5beee42c1730f3c96ffb5526/scipy-1.5.3-cp36-cp36m-manylinux1_x86_64.whl (25.9MB)\n",
            "\u001b[K     |████████████████████████████████| 25.9MB 137kB/s \n",
            "\u001b[?25hCollecting trampoline>=0.1.2\n",
            "  Downloading https://files.pythonhosted.org/packages/73/54/d2805324fb746d8da86d3844bee4f55c0cfd6c136de61b713772d44c5bea/trampoline-0.1.2-py3-none-any.whl\n",
            "Requirement already satisfied: typing-extensions in /usr/local/lib/python3.6/dist-packages (from torch>=1.6.0->torchsde==0.2.1) (3.7.4.3)\n",
            "Requirement already satisfied: dataclasses in /usr/local/lib/python3.6/dist-packages (from torch>=1.6.0->torchsde==0.2.1) (0.7)\n",
            "Requirement already satisfied: future in /usr/local/lib/python3.6/dist-packages (from torch>=1.6.0->torchsde==0.2.1) (0.16.0)\n",
            "Building wheels for collected packages: torchsde\n",
            "  Building wheel for torchsde (PEP 517) ... \u001b[?25l\u001b[?25hdone\n",
            "  Created wheel for torchsde: filename=torchsde-0.2.1-cp36-none-any.whl size=54172 sha256=0884300d37e5c19b9341de683036c6d6c3ada36e44e4c57848e96cf74f9dd705\n",
            "  Stored in directory: /tmp/pip-ephem-wheel-cache-fmbajzbf/wheels/31/b5/4b/53c7d7c124c1bbfebd2c5f429ca86b5e59f6cd4718dc0f1229\n",
            "Successfully built torchsde\n",
            "\u001b[31mERROR: tensorflow 2.3.0 has requirement numpy<1.19.0,>=1.16.0, but you'll have numpy 1.19.4 which is incompatible.\u001b[0m\n",
            "\u001b[31mERROR: tensorflow 2.3.0 has requirement scipy==1.4.1, but you'll have scipy 1.5.3 which is incompatible.\u001b[0m\n",
            "\u001b[31mERROR: datascience 0.10.6 has requirement folium==0.2.1, but you'll have folium 0.8.3 which is incompatible.\u001b[0m\n",
            "\u001b[31mERROR: albumentations 0.1.12 has requirement imgaug<0.2.7,>=0.2.5, but you'll have imgaug 0.2.9 which is incompatible.\u001b[0m\n",
            "Installing collected packages: boltons, numpy, scipy, trampoline, torchsde\n",
            "  Found existing installation: numpy 1.18.5\n",
            "    Uninstalling numpy-1.18.5:\n",
            "      Successfully uninstalled numpy-1.18.5\n",
            "  Found existing installation: scipy 1.4.1\n",
            "    Uninstalling scipy-1.4.1:\n",
            "      Successfully uninstalled scipy-1.4.1\n",
            "Successfully installed boltons-20.2.1 numpy-1.19.4 scipy-1.5.3 torchsde-0.2.1 trampoline-0.1.2\n"
          ],
          "name": "stdout"
        },
        {
          "output_type": "display_data",
          "data": {
            "application/vnd.colab-display-data+json": {
              "pip_warning": {
                "packages": [
                  "numpy"
                ]
              }
            }
          },
          "metadata": {
            "tags": []
          }
        },
        {
          "output_type": "error",
          "ename": "NameError",
          "evalue": "ignored",
          "traceback": [
            "\u001b[0;31m---------------------------------------------------------------------------\u001b[0m",
            "\u001b[0;31mNameError\u001b[0m                                 Traceback (most recent call last)",
            "\u001b[0;32m<ipython-input-1-08525f519622>\u001b[0m in \u001b[0;36m<module>\u001b[0;34m()\u001b[0m\n\u001b[1;32m     24\u001b[0m \u001b[0mbatch_size\u001b[0m\u001b[0;34m,\u001b[0m \u001b[0md\u001b[0m\u001b[0;34m,\u001b[0m \u001b[0mm\u001b[0m \u001b[0;34m=\u001b[0m \u001b[0;36m1031\u001b[0m\u001b[0;34m,\u001b[0m\u001b[0;36m90\u001b[0m\u001b[0;34m,\u001b[0m\u001b[0;36m90\u001b[0m  \u001b[0;31m# State dimension d, Brownian motion dimension m.\u001b[0m\u001b[0;34m\u001b[0m\u001b[0;34m\u001b[0m\u001b[0m\n\u001b[1;32m     25\u001b[0m \u001b[0mgeometric_bm\u001b[0m \u001b[0;34m=\u001b[0m \u001b[0mSDE\u001b[0m\u001b[0;34m(\u001b[0m\u001b[0;34m)\u001b[0m\u001b[0;34m\u001b[0m\u001b[0;34m\u001b[0m\u001b[0m\n\u001b[0;32m---> 26\u001b[0;31m \u001b[0my0\u001b[0m \u001b[0;34m=\u001b[0m \u001b[0mtorch\u001b[0m\u001b[0;34m.\u001b[0m\u001b[0mTensor\u001b[0m\u001b[0;34m(\u001b[0m\u001b[0mx_train\u001b[0m\u001b[0;34m)\u001b[0m  \u001b[0;31m# Initial state..\u001b[0m\u001b[0;34m\u001b[0m\u001b[0;34m\u001b[0m\u001b[0m\n\u001b[0m\u001b[1;32m     27\u001b[0m \u001b[0mts\u001b[0m \u001b[0;34m=\u001b[0m \u001b[0mtorch\u001b[0m\u001b[0;34m.\u001b[0m\u001b[0mlinspace\u001b[0m\u001b[0;34m(\u001b[0m\u001b[0;36m0\u001b[0m\u001b[0;34m,\u001b[0m \u001b[0;36m1\u001b[0m\u001b[0;34m,\u001b[0m \u001b[0;36m20\u001b[0m\u001b[0;34m)\u001b[0m\u001b[0;34m\u001b[0m\u001b[0;34m\u001b[0m\u001b[0m\n\u001b[1;32m     28\u001b[0m \u001b[0mys\u001b[0m \u001b[0;34m=\u001b[0m \u001b[0msdeint\u001b[0m\u001b[0;34m(\u001b[0m\u001b[0mgeometric_bm\u001b[0m\u001b[0;34m,\u001b[0m \u001b[0my0\u001b[0m\u001b[0;34m,\u001b[0m \u001b[0mts\u001b[0m\u001b[0;34m)\u001b[0m\u001b[0;34m\u001b[0m\u001b[0;34m\u001b[0m\u001b[0m\n",
            "\u001b[0;31mNameError\u001b[0m: name 'x_train' is not defined"
          ]
        }
      ]
    },
    {
      "cell_type": "code",
      "metadata": {
        "id": "np5ksM1qggR5"
      },
      "source": [
        ""
      ],
      "execution_count": null,
      "outputs": []
    }
  ]
}
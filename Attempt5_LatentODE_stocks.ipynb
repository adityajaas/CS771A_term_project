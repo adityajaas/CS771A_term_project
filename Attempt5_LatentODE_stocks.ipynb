{
  "nbformat": 4,
  "nbformat_minor": 0,
  "metadata": {
    "colab": {
      "name": "Attempt5_LatentODE_stocks.ipynb",
      "provenance": [],
      "collapsed_sections": [],
      "toc_visible": true
    },
    "kernelspec": {
      "display_name": "Python 3",
      "name": "python3"
    },
    "widgets": {
      "application/vnd.jupyter.widget-state+json": {
        "94ceafe9246d4816930a85fec9be5feb": {
          "model_module": "@jupyter-widgets/controls",
          "model_name": "HBoxModel",
          "state": {
            "_view_name": "HBoxView",
            "_dom_classes": [],
            "_model_name": "HBoxModel",
            "_view_module": "@jupyter-widgets/controls",
            "_model_module_version": "1.5.0",
            "_view_count": null,
            "_view_module_version": "1.5.0",
            "box_style": "",
            "layout": "IPY_MODEL_31cf4349c28949288183a8a6a1dac5a5",
            "_model_module": "@jupyter-widgets/controls",
            "children": [
              "IPY_MODEL_fd28e81f8e174dec849a80d8e6995a3a",
              "IPY_MODEL_57016ab000c74dc492699828b1c08d73"
            ]
          }
        },
        "31cf4349c28949288183a8a6a1dac5a5": {
          "model_module": "@jupyter-widgets/base",
          "model_name": "LayoutModel",
          "state": {
            "_view_name": "LayoutView",
            "grid_template_rows": null,
            "right": null,
            "justify_content": null,
            "_view_module": "@jupyter-widgets/base",
            "overflow": null,
            "_model_module_version": "1.2.0",
            "_view_count": null,
            "flex_flow": "row wrap",
            "width": "100%",
            "min_width": null,
            "border": null,
            "align_items": null,
            "bottom": null,
            "_model_module": "@jupyter-widgets/base",
            "top": null,
            "grid_column": null,
            "overflow_y": null,
            "overflow_x": null,
            "grid_auto_flow": null,
            "grid_area": null,
            "grid_template_columns": null,
            "flex": null,
            "_model_name": "LayoutModel",
            "justify_items": null,
            "grid_row": null,
            "max_height": null,
            "align_content": null,
            "visibility": null,
            "align_self": null,
            "height": null,
            "min_height": null,
            "padding": null,
            "grid_auto_rows": null,
            "grid_gap": null,
            "max_width": null,
            "order": null,
            "_view_module_version": "1.2.0",
            "grid_template_areas": null,
            "object_position": null,
            "object_fit": null,
            "grid_auto_columns": null,
            "margin": null,
            "display": "inline-flex",
            "left": null
          }
        },
        "fd28e81f8e174dec849a80d8e6995a3a": {
          "model_module": "@jupyter-widgets/controls",
          "model_name": "FloatProgressModel",
          "state": {
            "_view_name": "ProgressView",
            "style": "IPY_MODEL_6ddc50695a754321bff0072027977d73",
            "_dom_classes": [],
            "description": "Epoch 599: 100%",
            "_model_name": "FloatProgressModel",
            "bar_style": "success",
            "max": 1,
            "_view_module": "@jupyter-widgets/controls",
            "_model_module_version": "1.5.0",
            "value": 1,
            "_view_count": null,
            "_view_module_version": "1.5.0",
            "orientation": "horizontal",
            "min": 0,
            "description_tooltip": null,
            "_model_module": "@jupyter-widgets/controls",
            "layout": "IPY_MODEL_16be383a2cdf4785b3cf00cd3482aa0b"
          }
        },
        "57016ab000c74dc492699828b1c08d73": {
          "model_module": "@jupyter-widgets/controls",
          "model_name": "HTMLModel",
          "state": {
            "_view_name": "HTMLView",
            "style": "IPY_MODEL_a235ae70c46d4d9bb95d7ac9a59c15a7",
            "_dom_classes": [],
            "description": "",
            "_model_name": "HTMLModel",
            "placeholder": "​",
            "_view_module": "@jupyter-widgets/controls",
            "_model_module_version": "1.5.0",
            "value": " 1/1 [00:01&lt;00:00,  1.01s/it, loss=0.044, v_num=0]",
            "_view_count": null,
            "_view_module_version": "1.5.0",
            "description_tooltip": null,
            "_model_module": "@jupyter-widgets/controls",
            "layout": "IPY_MODEL_3c09412b7d9e4c5f9dc5288ddfa49739"
          }
        },
        "6ddc50695a754321bff0072027977d73": {
          "model_module": "@jupyter-widgets/controls",
          "model_name": "ProgressStyleModel",
          "state": {
            "_view_name": "StyleView",
            "_model_name": "ProgressStyleModel",
            "description_width": "initial",
            "_view_module": "@jupyter-widgets/base",
            "_model_module_version": "1.5.0",
            "_view_count": null,
            "_view_module_version": "1.2.0",
            "bar_color": null,
            "_model_module": "@jupyter-widgets/controls"
          }
        },
        "16be383a2cdf4785b3cf00cd3482aa0b": {
          "model_module": "@jupyter-widgets/base",
          "model_name": "LayoutModel",
          "state": {
            "_view_name": "LayoutView",
            "grid_template_rows": null,
            "right": null,
            "justify_content": null,
            "_view_module": "@jupyter-widgets/base",
            "overflow": null,
            "_model_module_version": "1.2.0",
            "_view_count": null,
            "flex_flow": null,
            "width": null,
            "min_width": null,
            "border": null,
            "align_items": null,
            "bottom": null,
            "_model_module": "@jupyter-widgets/base",
            "top": null,
            "grid_column": null,
            "overflow_y": null,
            "overflow_x": null,
            "grid_auto_flow": null,
            "grid_area": null,
            "grid_template_columns": null,
            "flex": "2",
            "_model_name": "LayoutModel",
            "justify_items": null,
            "grid_row": null,
            "max_height": null,
            "align_content": null,
            "visibility": null,
            "align_self": null,
            "height": null,
            "min_height": null,
            "padding": null,
            "grid_auto_rows": null,
            "grid_gap": null,
            "max_width": null,
            "order": null,
            "_view_module_version": "1.2.0",
            "grid_template_areas": null,
            "object_position": null,
            "object_fit": null,
            "grid_auto_columns": null,
            "margin": null,
            "display": null,
            "left": null
          }
        },
        "a235ae70c46d4d9bb95d7ac9a59c15a7": {
          "model_module": "@jupyter-widgets/controls",
          "model_name": "DescriptionStyleModel",
          "state": {
            "_view_name": "StyleView",
            "_model_name": "DescriptionStyleModel",
            "description_width": "",
            "_view_module": "@jupyter-widgets/base",
            "_model_module_version": "1.5.0",
            "_view_count": null,
            "_view_module_version": "1.2.0",
            "_model_module": "@jupyter-widgets/controls"
          }
        },
        "3c09412b7d9e4c5f9dc5288ddfa49739": {
          "model_module": "@jupyter-widgets/base",
          "model_name": "LayoutModel",
          "state": {
            "_view_name": "LayoutView",
            "grid_template_rows": null,
            "right": null,
            "justify_content": null,
            "_view_module": "@jupyter-widgets/base",
            "overflow": null,
            "_model_module_version": "1.2.0",
            "_view_count": null,
            "flex_flow": null,
            "width": null,
            "min_width": null,
            "border": null,
            "align_items": null,
            "bottom": null,
            "_model_module": "@jupyter-widgets/base",
            "top": null,
            "grid_column": null,
            "overflow_y": null,
            "overflow_x": null,
            "grid_auto_flow": null,
            "grid_area": null,
            "grid_template_columns": null,
            "flex": null,
            "_model_name": "LayoutModel",
            "justify_items": null,
            "grid_row": null,
            "max_height": null,
            "align_content": null,
            "visibility": null,
            "align_self": null,
            "height": null,
            "min_height": null,
            "padding": null,
            "grid_auto_rows": null,
            "grid_gap": null,
            "max_width": null,
            "order": null,
            "_view_module_version": "1.2.0",
            "grid_template_areas": null,
            "object_position": null,
            "object_fit": null,
            "grid_auto_columns": null,
            "margin": null,
            "display": null,
            "left": null
          }
        }
      }
    },
    "accelerator": "GPU"
  },
  "cells": [
    {
      "cell_type": "markdown",
      "metadata": {
        "id": "vFIVL2QE-P0Q"
      },
      "source": [
        "# **Installing Github Repo**"
      ]
    },
    {
      "cell_type": "code",
      "metadata": {
        "id": "u2RFKR6oGX9_",
        "colab": {
          "base_uri": "https://localhost:8080/"
        },
        "outputId": "ba1b3656-5942-4213-ef27-6067bad31645"
      },
      "source": [
        "pip install git+https://github.com/DiffEqML/torchdyn.git"
      ],
      "execution_count": null,
      "outputs": [
        {
          "output_type": "stream",
          "text": [
            "Collecting git+https://github.com/DiffEqML/torchdyn.git\n",
            "  Cloning https://github.com/DiffEqML/torchdyn.git to /tmp/pip-req-build-m2cdvrqb\n",
            "  Running command git clone -q https://github.com/DiffEqML/torchdyn.git /tmp/pip-req-build-m2cdvrqb\n",
            "  Installing build dependencies ... \u001b[?25l\u001b[?25hdone\n",
            "  Getting requirements to build wheel ... \u001b[?25l\u001b[?25hdone\n",
            "    Preparing wheel metadata ... \u001b[?25l\u001b[?25hdone\n",
            "Collecting torchdiffeq>=0.0.1\n",
            "  Downloading https://files.pythonhosted.org/packages/67/af/377e42c20058f4891dedc1827c1a6b7b16772a452d18097d05c1db06b338/torchdiffeq-0.1.1-py3-none-any.whl\n",
            "Collecting pytorch-lightning>=0.8.4\n",
            "\u001b[?25l  Downloading https://files.pythonhosted.org/packages/2e/92/078c5524c875c274ded8a0317ef31a2bb86d02c5c74089ab754d0f12b29c/pytorch_lightning-1.0.8-py3-none-any.whl (561kB)\n",
            "\u001b[K     |████████████████████████████████| 563kB 18.4MB/s \n",
            "\u001b[?25hRequirement already satisfied: scikit-learn in /usr/local/lib/python3.6/dist-packages (from torchdyn==0.2.2.2.dev25+g3251529) (0.22.2.post1)\n",
            "Requirement already satisfied: torchvision in /usr/local/lib/python3.6/dist-packages (from torchdyn==0.2.2.2.dev25+g3251529) (0.8.1+cu101)\n",
            "Collecting torchsde@ http://github.com/google-research/torchsde/tarball/master#egg=torchsde-0.1.1\n",
            "\u001b[?25l  Downloading http://github.com/google-research/torchsde/tarball/master\n",
            "\u001b[K     / 4.8MB 18.5MB/s\n",
            "\u001b[?25h  Installing build dependencies ... \u001b[?25l\u001b[?25hdone\n",
            "  Getting requirements to build wheel ... \u001b[?25l\u001b[?25hdone\n",
            "    Preparing wheel metadata ... \u001b[?25l\u001b[?25hdone\n",
            "Requirement already satisfied: matplotlib in /usr/local/lib/python3.6/dist-packages (from torchdyn==0.2.2.2.dev25+g3251529) (3.2.2)\n",
            "Requirement already satisfied: torch>=1.6.0 in /usr/local/lib/python3.6/dist-packages (from torchdyn==0.2.2.2.dev25+g3251529) (1.7.0+cu101)\n",
            "Collecting dgl>=0.4.1\n",
            "\u001b[?25l  Downloading https://files.pythonhosted.org/packages/46/62/da7146c0e46f93dd1f17cccea3010def155a1f479c0b036b604e952f321f/dgl-0.5.3-cp36-cp36m-manylinux1_x86_64.whl (3.6MB)\n",
            "\u001b[K     |████████████████████████████████| 3.6MB 38.0MB/s \n",
            "\u001b[?25hCollecting future>=0.17.1\n",
            "\u001b[?25l  Downloading https://files.pythonhosted.org/packages/45/0b/38b06fd9b92dc2b68d58b75f900e97884c45bedd2ff83203d933cf5851c9/future-0.18.2.tar.gz (829kB)\n",
            "\u001b[K     |████████████████████████████████| 829kB 51.3MB/s \n",
            "\u001b[?25hCollecting fsspec>=0.8.0\n",
            "\u001b[?25l  Downloading https://files.pythonhosted.org/packages/a5/8b/1df260f860f17cb08698170153ef7db672c497c1840dcc8613ce26a8a005/fsspec-0.8.4-py3-none-any.whl (91kB)\n",
            "\u001b[K     |████████████████████████████████| 92kB 11.1MB/s \n",
            "\u001b[?25hRequirement already satisfied: tensorboard>=2.2.0 in /usr/local/lib/python3.6/dist-packages (from pytorch-lightning>=0.8.4->torchdyn==0.2.2.2.dev25+g3251529) (2.3.0)\n",
            "Requirement already satisfied: tqdm>=4.41.0 in /usr/local/lib/python3.6/dist-packages (from pytorch-lightning>=0.8.4->torchdyn==0.2.2.2.dev25+g3251529) (4.41.1)\n",
            "Collecting PyYAML>=5.1\n",
            "\u001b[?25l  Downloading https://files.pythonhosted.org/packages/64/c2/b80047c7ac2478f9501676c988a5411ed5572f35d1beff9cae07d321512c/PyYAML-5.3.1.tar.gz (269kB)\n",
            "\u001b[K     |████████████████████████████████| 276kB 55.1MB/s \n",
            "\u001b[?25hRequirement already satisfied: numpy>=1.16.4 in /usr/local/lib/python3.6/dist-packages (from pytorch-lightning>=0.8.4->torchdyn==0.2.2.2.dev25+g3251529) (1.18.5)\n",
            "Requirement already satisfied: joblib>=0.11 in /usr/local/lib/python3.6/dist-packages (from scikit-learn->torchdyn==0.2.2.2.dev25+g3251529) (0.17.0)\n",
            "Requirement already satisfied: scipy>=0.17.0 in /usr/local/lib/python3.6/dist-packages (from scikit-learn->torchdyn==0.2.2.2.dev25+g3251529) (1.4.1)\n",
            "Requirement already satisfied: pillow>=4.1.1 in /usr/local/lib/python3.6/dist-packages (from torchvision->torchdyn==0.2.2.2.dev25+g3251529) (7.0.0)\n",
            "Collecting boltons>=20.2.1\n",
            "\u001b[?25l  Downloading https://files.pythonhosted.org/packages/71/e1/e7979a4a6d4b296b5935e926549fff540f7670ddaf09bbf137e2b022c039/boltons-20.2.1-py2.py3-none-any.whl (170kB)\n",
            "\u001b[K     |████████████████████████████████| 174kB 49.4MB/s \n",
            "\u001b[?25hCollecting trampoline>=0.1.2\n",
            "  Downloading https://files.pythonhosted.org/packages/73/54/d2805324fb746d8da86d3844bee4f55c0cfd6c136de61b713772d44c5bea/trampoline-0.1.2-py3-none-any.whl\n",
            "Requirement already satisfied: cycler>=0.10 in /usr/local/lib/python3.6/dist-packages (from matplotlib->torchdyn==0.2.2.2.dev25+g3251529) (0.10.0)\n",
            "Requirement already satisfied: pyparsing!=2.0.4,!=2.1.2,!=2.1.6,>=2.0.1 in /usr/local/lib/python3.6/dist-packages (from matplotlib->torchdyn==0.2.2.2.dev25+g3251529) (2.4.7)\n",
            "Requirement already satisfied: python-dateutil>=2.1 in /usr/local/lib/python3.6/dist-packages (from matplotlib->torchdyn==0.2.2.2.dev25+g3251529) (2.8.1)\n",
            "Requirement already satisfied: kiwisolver>=1.0.1 in /usr/local/lib/python3.6/dist-packages (from matplotlib->torchdyn==0.2.2.2.dev25+g3251529) (1.3.1)\n",
            "Requirement already satisfied: dataclasses in /usr/local/lib/python3.6/dist-packages (from torch>=1.6.0->torchdyn==0.2.2.2.dev25+g3251529) (0.8)\n",
            "Requirement already satisfied: typing-extensions in /usr/local/lib/python3.6/dist-packages (from torch>=1.6.0->torchdyn==0.2.2.2.dev25+g3251529) (3.7.4.3)\n",
            "Requirement already satisfied: requests>=2.19.0 in /usr/local/lib/python3.6/dist-packages (from dgl>=0.4.1->torchdyn==0.2.2.2.dev25+g3251529) (2.23.0)\n",
            "Requirement already satisfied: networkx>=2.1 in /usr/local/lib/python3.6/dist-packages (from dgl>=0.4.1->torchdyn==0.2.2.2.dev25+g3251529) (2.5)\n",
            "Requirement already satisfied: protobuf>=3.6.0 in /usr/local/lib/python3.6/dist-packages (from tensorboard>=2.2.0->pytorch-lightning>=0.8.4->torchdyn==0.2.2.2.dev25+g3251529) (3.12.4)\n",
            "Requirement already satisfied: six>=1.10.0 in /usr/local/lib/python3.6/dist-packages (from tensorboard>=2.2.0->pytorch-lightning>=0.8.4->torchdyn==0.2.2.2.dev25+g3251529) (1.15.0)\n",
            "Requirement already satisfied: wheel>=0.26; python_version >= \"3\" in /usr/local/lib/python3.6/dist-packages (from tensorboard>=2.2.0->pytorch-lightning>=0.8.4->torchdyn==0.2.2.2.dev25+g3251529) (0.35.1)\n",
            "Requirement already satisfied: google-auth<2,>=1.6.3 in /usr/local/lib/python3.6/dist-packages (from tensorboard>=2.2.0->pytorch-lightning>=0.8.4->torchdyn==0.2.2.2.dev25+g3251529) (1.17.2)\n",
            "Requirement already satisfied: absl-py>=0.4 in /usr/local/lib/python3.6/dist-packages (from tensorboard>=2.2.0->pytorch-lightning>=0.8.4->torchdyn==0.2.2.2.dev25+g3251529) (0.10.0)\n",
            "Requirement already satisfied: google-auth-oauthlib<0.5,>=0.4.1 in /usr/local/lib/python3.6/dist-packages (from tensorboard>=2.2.0->pytorch-lightning>=0.8.4->torchdyn==0.2.2.2.dev25+g3251529) (0.4.2)\n",
            "Requirement already satisfied: setuptools>=41.0.0 in /usr/local/lib/python3.6/dist-packages (from tensorboard>=2.2.0->pytorch-lightning>=0.8.4->torchdyn==0.2.2.2.dev25+g3251529) (50.3.2)\n",
            "Requirement already satisfied: werkzeug>=0.11.15 in /usr/local/lib/python3.6/dist-packages (from tensorboard>=2.2.0->pytorch-lightning>=0.8.4->torchdyn==0.2.2.2.dev25+g3251529) (1.0.1)\n",
            "Requirement already satisfied: grpcio>=1.24.3 in /usr/local/lib/python3.6/dist-packages (from tensorboard>=2.2.0->pytorch-lightning>=0.8.4->torchdyn==0.2.2.2.dev25+g3251529) (1.33.2)\n",
            "Requirement already satisfied: markdown>=2.6.8 in /usr/local/lib/python3.6/dist-packages (from tensorboard>=2.2.0->pytorch-lightning>=0.8.4->torchdyn==0.2.2.2.dev25+g3251529) (3.3.3)\n",
            "Requirement already satisfied: tensorboard-plugin-wit>=1.6.0 in /usr/local/lib/python3.6/dist-packages (from tensorboard>=2.2.0->pytorch-lightning>=0.8.4->torchdyn==0.2.2.2.dev25+g3251529) (1.7.0)\n",
            "Requirement already satisfied: chardet<4,>=3.0.2 in /usr/local/lib/python3.6/dist-packages (from requests>=2.19.0->dgl>=0.4.1->torchdyn==0.2.2.2.dev25+g3251529) (3.0.4)\n",
            "Requirement already satisfied: urllib3!=1.25.0,!=1.25.1,<1.26,>=1.21.1 in /usr/local/lib/python3.6/dist-packages (from requests>=2.19.0->dgl>=0.4.1->torchdyn==0.2.2.2.dev25+g3251529) (1.24.3)\n",
            "Requirement already satisfied: certifi>=2017.4.17 in /usr/local/lib/python3.6/dist-packages (from requests>=2.19.0->dgl>=0.4.1->torchdyn==0.2.2.2.dev25+g3251529) (2020.11.8)\n",
            "Requirement already satisfied: idna<3,>=2.5 in /usr/local/lib/python3.6/dist-packages (from requests>=2.19.0->dgl>=0.4.1->torchdyn==0.2.2.2.dev25+g3251529) (2.10)\n",
            "Requirement already satisfied: decorator>=4.3.0 in /usr/local/lib/python3.6/dist-packages (from networkx>=2.1->dgl>=0.4.1->torchdyn==0.2.2.2.dev25+g3251529) (4.4.2)\n",
            "Requirement already satisfied: rsa<5,>=3.1.4; python_version >= \"3\" in /usr/local/lib/python3.6/dist-packages (from google-auth<2,>=1.6.3->tensorboard>=2.2.0->pytorch-lightning>=0.8.4->torchdyn==0.2.2.2.dev25+g3251529) (4.6)\n",
            "Requirement already satisfied: cachetools<5.0,>=2.0.0 in /usr/local/lib/python3.6/dist-packages (from google-auth<2,>=1.6.3->tensorboard>=2.2.0->pytorch-lightning>=0.8.4->torchdyn==0.2.2.2.dev25+g3251529) (4.1.1)\n",
            "Requirement already satisfied: pyasn1-modules>=0.2.1 in /usr/local/lib/python3.6/dist-packages (from google-auth<2,>=1.6.3->tensorboard>=2.2.0->pytorch-lightning>=0.8.4->torchdyn==0.2.2.2.dev25+g3251529) (0.2.8)\n",
            "Requirement already satisfied: requests-oauthlib>=0.7.0 in /usr/local/lib/python3.6/dist-packages (from google-auth-oauthlib<0.5,>=0.4.1->tensorboard>=2.2.0->pytorch-lightning>=0.8.4->torchdyn==0.2.2.2.dev25+g3251529) (1.3.0)\n",
            "Requirement already satisfied: importlib-metadata; python_version < \"3.8\" in /usr/local/lib/python3.6/dist-packages (from markdown>=2.6.8->tensorboard>=2.2.0->pytorch-lightning>=0.8.4->torchdyn==0.2.2.2.dev25+g3251529) (2.0.0)\n",
            "Requirement already satisfied: pyasn1>=0.1.3 in /usr/local/lib/python3.6/dist-packages (from rsa<5,>=3.1.4; python_version >= \"3\"->google-auth<2,>=1.6.3->tensorboard>=2.2.0->pytorch-lightning>=0.8.4->torchdyn==0.2.2.2.dev25+g3251529) (0.4.8)\n",
            "Requirement already satisfied: oauthlib>=3.0.0 in /usr/local/lib/python3.6/dist-packages (from requests-oauthlib>=0.7.0->google-auth-oauthlib<0.5,>=0.4.1->tensorboard>=2.2.0->pytorch-lightning>=0.8.4->torchdyn==0.2.2.2.dev25+g3251529) (3.1.0)\n",
            "Requirement already satisfied: zipp>=0.5 in /usr/local/lib/python3.6/dist-packages (from importlib-metadata; python_version < \"3.8\"->markdown>=2.6.8->tensorboard>=2.2.0->pytorch-lightning>=0.8.4->torchdyn==0.2.2.2.dev25+g3251529) (3.4.0)\n",
            "Building wheels for collected packages: torchdyn, torchsde\n",
            "  Building wheel for torchdyn (PEP 517) ... \u001b[?25l\u001b[?25hdone\n",
            "  Created wheel for torchdyn: filename=torchdyn-0.2.2.2.dev25+g3251529-cp36-none-any.whl size=44133 sha256=ce34b14b6a3b34f338498d978e37fe2cf8d13ce1933d2c7af99dfd360940958e\n",
            "  Stored in directory: /tmp/pip-ephem-wheel-cache-zapyv8np/wheels/36/47/35/325f69fad58c6d04ac4a83f3ec2bdd1c7fec799effc21d45d3\n",
            "  Building wheel for torchsde (PEP 517) ... \u001b[?25l\u001b[?25hdone\n",
            "  Created wheel for torchsde: filename=torchsde-0.2.1-cp36-none-any.whl size=54172 sha256=bb233b8ad849512b6cb58066f43f9e9671561ab426d37f162cc55f8bd6f596c3\n",
            "  Stored in directory: /tmp/pip-ephem-wheel-cache-zapyv8np/wheels/be/3a/d9/fb59fb4acde87c8aa2ae764dfe9139b45fb5f33e5cac3aeeaa\n",
            "Successfully built torchdyn torchsde\n",
            "Building wheels for collected packages: future, PyYAML\n",
            "  Building wheel for future (setup.py) ... \u001b[?25l\u001b[?25hdone\n",
            "  Created wheel for future: filename=future-0.18.2-cp36-none-any.whl size=491057 sha256=1ce508e430459923e9fede48fc67e2f5569bec52c00bc68f72a679b5f17e0ebe\n",
            "  Stored in directory: /root/.cache/pip/wheels/8b/99/a0/81daf51dcd359a9377b110a8a886b3895921802d2fc1b2397e\n",
            "  Building wheel for PyYAML (setup.py) ... \u001b[?25l\u001b[?25hdone\n",
            "  Created wheel for PyYAML: filename=PyYAML-5.3.1-cp36-cp36m-linux_x86_64.whl size=44619 sha256=9b4798b511e7d2a29c0c0b742cbf2156885e4d1ba7325ffc06985f240224e48d\n",
            "  Stored in directory: /root/.cache/pip/wheels/a7/c1/ea/cf5bd31012e735dc1dfea3131a2d5eae7978b251083d6247bd\n",
            "Successfully built future PyYAML\n",
            "\u001b[31mERROR: torchsde 0.2.1 has requirement numpy>=1.19.1, but you'll have numpy 1.18.5 which is incompatible.\u001b[0m\n",
            "\u001b[31mERROR: torchsde 0.2.1 has requirement scipy>=1.5.2, but you'll have scipy 1.4.1 which is incompatible.\u001b[0m\n",
            "Installing collected packages: torchdiffeq, future, fsspec, PyYAML, pytorch-lightning, boltons, trampoline, torchsde, dgl, torchdyn\n",
            "  Found existing installation: future 0.16.0\n",
            "    Uninstalling future-0.16.0:\n",
            "      Successfully uninstalled future-0.16.0\n",
            "  Found existing installation: PyYAML 3.13\n",
            "    Uninstalling PyYAML-3.13:\n",
            "      Successfully uninstalled PyYAML-3.13\n",
            "Successfully installed PyYAML-5.3.1 boltons-20.2.1 dgl-0.5.3 fsspec-0.8.4 future-0.18.2 pytorch-lightning-1.0.8 torchdiffeq-0.1.1 torchdyn-0.2.2.2.dev25+g3251529 torchsde-0.2.1 trampoline-0.1.2\n"
          ],
          "name": "stdout"
        }
      ]
    },
    {
      "cell_type": "code",
      "metadata": {
        "id": "OVfpY-6INdSJ",
        "colab": {
          "base_uri": "https://localhost:8080/"
        },
        "outputId": "0d214656-b2a7-4eae-a438-0ccb87e8d25b"
      },
      "source": [
        "pip install git+https://github.com/google-research/torchsde.git"
      ],
      "execution_count": null,
      "outputs": [
        {
          "output_type": "stream",
          "text": [
            "Collecting git+https://github.com/google-research/torchsde.git\n",
            "  Cloning https://github.com/google-research/torchsde.git to /tmp/pip-req-build-up5a2dy8\n",
            "  Running command git clone -q https://github.com/google-research/torchsde.git /tmp/pip-req-build-up5a2dy8\n",
            "  Installing build dependencies ... \u001b[?25l\u001b[?25hdone\n",
            "  Getting requirements to build wheel ... \u001b[?25l\u001b[?25hdone\n",
            "    Preparing wheel metadata ... \u001b[?25l\u001b[?25hdone\n",
            "Requirement already satisfied (use --upgrade to upgrade): torchsde==0.2.1 from git+https://github.com/google-research/torchsde.git in /usr/local/lib/python3.6/dist-packages\n",
            "Collecting numpy>=1.19.1\n",
            "\u001b[?25l  Downloading https://files.pythonhosted.org/packages/87/86/753182c9085ba4936c0076269a571613387cdb77ae2bf537448bfd63472c/numpy-1.19.4-cp36-cp36m-manylinux2010_x86_64.whl (14.5MB)\n",
            "\u001b[K     |████████████████████████████████| 14.5MB 252kB/s \n",
            "\u001b[?25hRequirement already satisfied: torch>=1.6.0 in /usr/local/lib/python3.6/dist-packages (from torchsde==0.2.1) (1.7.0+cu101)\n",
            "Collecting scipy>=1.5.2\n",
            "\u001b[?25l  Downloading https://files.pythonhosted.org/packages/c8/89/63171228d5ced148f5ced50305c89e8576ffc695a90b58fe5bb602b910c2/scipy-1.5.4-cp36-cp36m-manylinux1_x86_64.whl (25.9MB)\n",
            "\u001b[K     |████████████████████████████████| 25.9MB 1.7MB/s \n",
            "\u001b[?25hRequirement already satisfied: trampoline>=0.1.2 in /usr/local/lib/python3.6/dist-packages (from torchsde==0.2.1) (0.1.2)\n",
            "Requirement already satisfied: boltons>=20.2.1 in /usr/local/lib/python3.6/dist-packages (from torchsde==0.2.1) (20.2.1)\n",
            "Requirement already satisfied: typing-extensions in /usr/local/lib/python3.6/dist-packages (from torch>=1.6.0->torchsde==0.2.1) (3.7.4.3)\n",
            "Requirement already satisfied: future in /usr/local/lib/python3.6/dist-packages (from torch>=1.6.0->torchsde==0.2.1) (0.18.2)\n",
            "Requirement already satisfied: dataclasses in /usr/local/lib/python3.6/dist-packages (from torch>=1.6.0->torchsde==0.2.1) (0.8)\n",
            "Building wheels for collected packages: torchsde\n",
            "  Building wheel for torchsde (PEP 517) ... \u001b[?25l\u001b[?25hdone\n",
            "  Created wheel for torchsde: filename=torchsde-0.2.1-cp36-none-any.whl size=54172 sha256=3634b54b487765039e7f9b0eb3c0cfce8057b46a8381eb3e4f9a25e2175d82ff\n",
            "  Stored in directory: /tmp/pip-ephem-wheel-cache-tt_api0p/wheels/31/b5/4b/53c7d7c124c1bbfebd2c5f429ca86b5e59f6cd4718dc0f1229\n",
            "Successfully built torchsde\n",
            "\u001b[31mERROR: tensorflow 2.3.0 has requirement numpy<1.19.0,>=1.16.0, but you'll have numpy 1.19.4 which is incompatible.\u001b[0m\n",
            "\u001b[31mERROR: tensorflow 2.3.0 has requirement scipy==1.4.1, but you'll have scipy 1.5.4 which is incompatible.\u001b[0m\n",
            "\u001b[31mERROR: datascience 0.10.6 has requirement folium==0.2.1, but you'll have folium 0.8.3 which is incompatible.\u001b[0m\n",
            "\u001b[31mERROR: albumentations 0.1.12 has requirement imgaug<0.2.7,>=0.2.5, but you'll have imgaug 0.2.9 which is incompatible.\u001b[0m\n",
            "Installing collected packages: numpy, scipy\n",
            "  Found existing installation: numpy 1.18.5\n",
            "    Uninstalling numpy-1.18.5:\n",
            "      Successfully uninstalled numpy-1.18.5\n",
            "  Found existing installation: scipy 1.4.1\n",
            "    Uninstalling scipy-1.4.1:\n",
            "      Successfully uninstalled scipy-1.4.1\n",
            "Successfully installed numpy-1.19.4 scipy-1.5.4\n"
          ],
          "name": "stdout"
        },
        {
          "output_type": "display_data",
          "data": {
            "application/vnd.colab-display-data+json": {
              "pip_warning": {
                "packages": [
                  "numpy"
                ]
              }
            }
          },
          "metadata": {
            "tags": []
          }
        }
      ]
    },
    {
      "cell_type": "markdown",
      "metadata": {
        "id": "c5XQH9Frpq50"
      },
      "source": [
        "# **Loading Libraries**"
      ]
    },
    {
      "cell_type": "code",
      "metadata": {
        "id": "xA79CpF1rLHD",
        "colab": {
          "base_uri": "https://localhost:8080/"
        },
        "outputId": "9d2174d1-b737-432e-8e91-6dbb170197bb"
      },
      "source": [
        "import datetime as dt\n",
        "import math\n",
        "import numpy as np\n",
        "import pandas as pd\n",
        "import imageio\n",
        "\n",
        "import sys ; sys.path.append('../')\n",
        "from torchdyn.models import *; from torchdyn.datasets import *\n",
        "from torchdyn import *\n",
        "import torchdiffeq\n",
        "import os\n",
        "import time\n",
        "from google.colab import files\n",
        "\n",
        "from IPython.display import clear_output\n",
        "from tqdm.notebook import tqdm\n",
        "\n",
        "import matplotlib as mpl\n",
        "import matplotlib.pyplot as plt\n",
        "%matplotlib inline\n",
        "import seaborn as sns\n",
        "sns.color_palette(\"bright\")\n",
        "import matplotlib as mpl\n",
        "import matplotlib.cm as cm\n",
        "\n",
        "import torch\n",
        "from torch import Tensor\n",
        "from torch import nn\n",
        "import pytorch_lightning as pl\n",
        "import torch.utils.data as Data\n",
        "from torch.nn  import functional as F \n",
        "from torch.autograd import Variable\n",
        "from scipy.integrate import odeint\n",
        "from sklearn.preprocessing import StandardScaler, MinMaxScaler\n",
        "\n",
        "use_cuda = torch.cuda.is_available()\n",
        "import warnings\n",
        "warnings.filterwarnings('ignore')\n",
        "use_cuda\n",
        "#device"
      ],
      "execution_count": null,
      "outputs": [
        {
          "output_type": "execute_result",
          "data": {
            "text/plain": [
              "True"
            ]
          },
          "metadata": {
            "tags": []
          },
          "execution_count": 34
        }
      ]
    },
    {
      "cell_type": "markdown",
      "metadata": {
        "id": "pOq-5UrYRA47"
      },
      "source": [
        "# **Data Loading**"
      ]
    },
    {
      "cell_type": "code",
      "metadata": {
        "id": "IIX-1QPJroQL",
        "colab": {
          "base_uri": "https://localhost:8080/"
        },
        "outputId": "3446e545-94e4-4d01-8c39-4433ce0ffb40"
      },
      "source": [
        "data = pd.read_csv('https://raw.githubusercontent.com/adityajaas/CS771A_term_project/master/RELIANCE.csv')\n",
        "data.set_index(pd.Index(np.linspace(1, len(data.index), len(data.index), dtype = int)))\n",
        "data['Date']= pd.to_datetime(data['Date']) \n",
        "data.head()"
      ],
      "execution_count": null,
      "outputs": [
        {
          "output_type": "execute_result",
          "data": {
            "text/html": [
              "<div>\n",
              "<style scoped>\n",
              "    .dataframe tbody tr th:only-of-type {\n",
              "        vertical-align: middle;\n",
              "    }\n",
              "\n",
              "    .dataframe tbody tr th {\n",
              "        vertical-align: top;\n",
              "    }\n",
              "\n",
              "    .dataframe thead th {\n",
              "        text-align: right;\n",
              "    }\n",
              "</style>\n",
              "<table border=\"1\" class=\"dataframe\">\n",
              "  <thead>\n",
              "    <tr style=\"text-align: right;\">\n",
              "      <th></th>\n",
              "      <th>Date</th>\n",
              "      <th>Symbol</th>\n",
              "      <th>Series</th>\n",
              "      <th>Prev Close</th>\n",
              "      <th>Open</th>\n",
              "      <th>High</th>\n",
              "      <th>Low</th>\n",
              "      <th>Last</th>\n",
              "      <th>Close</th>\n",
              "      <th>VWAP</th>\n",
              "      <th>Volume</th>\n",
              "      <th>Turnover</th>\n",
              "      <th>Trades</th>\n",
              "      <th>Deliverable Volume</th>\n",
              "      <th>%Deliverble</th>\n",
              "    </tr>\n",
              "  </thead>\n",
              "  <tbody>\n",
              "    <tr>\n",
              "      <th>0</th>\n",
              "      <td>2015-01-01</td>\n",
              "      <td>RELIANCE</td>\n",
              "      <td>EQ</td>\n",
              "      <td>891.15</td>\n",
              "      <td>886.3</td>\n",
              "      <td>892.00</td>\n",
              "      <td>883.65</td>\n",
              "      <td>888.00</td>\n",
              "      <td>887.90</td>\n",
              "      <td>887.62</td>\n",
              "      <td>677439</td>\n",
              "      <td>6.013059e+13</td>\n",
              "      <td>16263</td>\n",
              "      <td>286377</td>\n",
              "      <td>0.4227</td>\n",
              "    </tr>\n",
              "    <tr>\n",
              "      <th>1</th>\n",
              "      <td>2015-01-02</td>\n",
              "      <td>RELIANCE</td>\n",
              "      <td>EQ</td>\n",
              "      <td>887.90</td>\n",
              "      <td>888.1</td>\n",
              "      <td>896.05</td>\n",
              "      <td>884.30</td>\n",
              "      <td>884.95</td>\n",
              "      <td>885.55</td>\n",
              "      <td>889.39</td>\n",
              "      <td>1675827</td>\n",
              "      <td>1.490461e+14</td>\n",
              "      <td>31269</td>\n",
              "      <td>1048543</td>\n",
              "      <td>0.6257</td>\n",
              "    </tr>\n",
              "    <tr>\n",
              "      <th>2</th>\n",
              "      <td>2015-01-05</td>\n",
              "      <td>RELIANCE</td>\n",
              "      <td>EQ</td>\n",
              "      <td>885.55</td>\n",
              "      <td>885.0</td>\n",
              "      <td>890.90</td>\n",
              "      <td>874.10</td>\n",
              "      <td>875.55</td>\n",
              "      <td>875.85</td>\n",
              "      <td>881.88</td>\n",
              "      <td>2309591</td>\n",
              "      <td>2.036781e+14</td>\n",
              "      <td>67035</td>\n",
              "      <td>1393132</td>\n",
              "      <td>0.6032</td>\n",
              "    </tr>\n",
              "    <tr>\n",
              "      <th>3</th>\n",
              "      <td>2015-01-06</td>\n",
              "      <td>RELIANCE</td>\n",
              "      <td>EQ</td>\n",
              "      <td>875.85</td>\n",
              "      <td>870.0</td>\n",
              "      <td>873.00</td>\n",
              "      <td>832.00</td>\n",
              "      <td>832.50</td>\n",
              "      <td>836.10</td>\n",
              "      <td>847.60</td>\n",
              "      <td>4258043</td>\n",
              "      <td>3.609133e+14</td>\n",
              "      <td>120767</td>\n",
              "      <td>2353273</td>\n",
              "      <td>0.5527</td>\n",
              "    </tr>\n",
              "    <tr>\n",
              "      <th>4</th>\n",
              "      <td>2015-01-07</td>\n",
              "      <td>RELIANCE</td>\n",
              "      <td>EQ</td>\n",
              "      <td>836.10</td>\n",
              "      <td>837.1</td>\n",
              "      <td>858.80</td>\n",
              "      <td>837.00</td>\n",
              "      <td>858.00</td>\n",
              "      <td>854.30</td>\n",
              "      <td>849.81</td>\n",
              "      <td>4736315</td>\n",
              "      <td>4.024972e+14</td>\n",
              "      <td>125939</td>\n",
              "      <td>2885468</td>\n",
              "      <td>0.6092</td>\n",
              "    </tr>\n",
              "  </tbody>\n",
              "</table>\n",
              "</div>"
            ],
            "text/plain": [
              "        Date    Symbol Series  ...  Trades  Deliverable Volume  %Deliverble\n",
              "0 2015-01-01  RELIANCE     EQ  ...   16263              286377       0.4227\n",
              "1 2015-01-02  RELIANCE     EQ  ...   31269             1048543       0.6257\n",
              "2 2015-01-05  RELIANCE     EQ  ...   67035             1393132       0.6032\n",
              "3 2015-01-06  RELIANCE     EQ  ...  120767             2353273       0.5527\n",
              "4 2015-01-07  RELIANCE     EQ  ...  125939             2885468       0.6092\n",
              "\n",
              "[5 rows x 15 columns]"
            ]
          },
          "metadata": {
            "tags": []
          },
          "execution_count": 35
        }
      ]
    },
    {
      "cell_type": "code",
      "metadata": {
        "id": "PkSUa2mprwyn",
        "colab": {
          "base_uri": "https://localhost:8080/"
        },
        "outputId": "69e95b62-6b48-401a-ed7b-b4e65090948c"
      },
      "source": [
        "# Visualize the plot\n",
        "plt.figure(figsize=(16,6))\n",
        "plt.plot(data['Date'],data['Close'])\n",
        "plt.title('Historical Stock Value', fontsize = 16)\n",
        "plt.xlabel('Date', fontsize = 14)\n",
        "plt.ylabel('Stock Price', fontsize = 14)\n",
        "plt.grid()\n",
        "plt.show()"
      ],
      "execution_count": null,
      "outputs": [
        {
          "output_type": "display_data",
          "data": {
            "image/png": "[encoded data removed]",
            "text/plain": [
              "<Figure size 1152x432 with 1 Axes>"
            ]
          },
          "metadata": {
            "tags": [],
            "needs_background": "light"
          }
        }
      ]
    },
    {
      "cell_type": "markdown",
      "metadata": {
        "id": "m2teppYURF_3"
      },
      "source": [
        "# **Data Cleaning and Splitting**"
      ]
    },
    {
      "cell_type": "code",
      "metadata": {
        "id": "LBfF9i-8r0_a",
        "colab": {
          "base_uri": "https://localhost:8080/"
        },
        "outputId": "e4057278-c4f4-451c-bf37-b9e8f2813715"
      },
      "source": [
        "# Create new dataframe with only relevant columns\n",
        "stk_data = pd.DataFrame(columns = ['Date', 'Open', 'High', 'Low', 'Close'])\n",
        "stk_data['Date'] = data['Date']\n",
        "stk_data['Open'] = data['Open']\n",
        "stk_data['High'] = data['High']\n",
        "stk_data['Low'] = data['Low']\n",
        "stk_data['Close'] = data['Close']\n",
        "stk_data.head()"
      ],
      "execution_count": null,
      "outputs": [
        {
          "output_type": "execute_result",
          "data": {
            "text/html": [
              "<div>\n",
              "<style scoped>\n",
              "    .dataframe tbody tr th:only-of-type {\n",
              "        vertical-align: middle;\n",
              "    }\n",
              "\n",
              "    .dataframe tbody tr th {\n",
              "        vertical-align: top;\n",
              "    }\n",
              "\n",
              "    .dataframe thead th {\n",
              "        text-align: right;\n",
              "    }\n",
              "</style>\n",
              "<table border=\"1\" class=\"dataframe\">\n",
              "  <thead>\n",
              "    <tr style=\"text-align: right;\">\n",
              "      <th></th>\n",
              "      <th>Date</th>\n",
              "      <th>Open</th>\n",
              "      <th>High</th>\n",
              "      <th>Low</th>\n",
              "      <th>Close</th>\n",
              "    </tr>\n",
              "  </thead>\n",
              "  <tbody>\n",
              "    <tr>\n",
              "      <th>0</th>\n",
              "      <td>2015-01-01</td>\n",
              "      <td>886.3</td>\n",
              "      <td>892.00</td>\n",
              "      <td>883.65</td>\n",
              "      <td>887.90</td>\n",
              "    </tr>\n",
              "    <tr>\n",
              "      <th>1</th>\n",
              "      <td>2015-01-02</td>\n",
              "      <td>888.1</td>\n",
              "      <td>896.05</td>\n",
              "      <td>884.30</td>\n",
              "      <td>885.55</td>\n",
              "    </tr>\n",
              "    <tr>\n",
              "      <th>2</th>\n",
              "      <td>2015-01-05</td>\n",
              "      <td>885.0</td>\n",
              "      <td>890.90</td>\n",
              "      <td>874.10</td>\n",
              "      <td>875.85</td>\n",
              "    </tr>\n",
              "    <tr>\n",
              "      <th>3</th>\n",
              "      <td>2015-01-06</td>\n",
              "      <td>870.0</td>\n",
              "      <td>873.00</td>\n",
              "      <td>832.00</td>\n",
              "      <td>836.10</td>\n",
              "    </tr>\n",
              "    <tr>\n",
              "      <th>4</th>\n",
              "      <td>2015-01-07</td>\n",
              "      <td>837.1</td>\n",
              "      <td>858.80</td>\n",
              "      <td>837.00</td>\n",
              "      <td>854.30</td>\n",
              "    </tr>\n",
              "  </tbody>\n",
              "</table>\n",
              "</div>"
            ],
            "text/plain": [
              "        Date   Open    High     Low   Close\n",
              "0 2015-01-01  886.3  892.00  883.65  887.90\n",
              "1 2015-01-02  888.1  896.05  884.30  885.55\n",
              "2 2015-01-05  885.0  890.90  874.10  875.85\n",
              "3 2015-01-06  870.0  873.00  832.00  836.10\n",
              "4 2015-01-07  837.1  858.80  837.00  854.30"
            ]
          },
          "metadata": {
            "tags": []
          },
          "execution_count": 37
        }
      ]
    },
    {
      "cell_type": "code",
      "metadata": {
        "id": "rXaEl0Frr2G0",
        "colab": {
          "base_uri": "https://localhost:8080/"
        },
        "outputId": "5219aabe-5d4e-4d56-bafa-8a980b3bfdc3"
      },
      "source": [
        "# Define the training set\n",
        "percent_training: float = 0.80\n",
        "num_training_samples = int(np.ceil(percent_training*len(stk_data))) # number of training samples in int\n",
        "training_set = stk_data.iloc[:num_training_samples, 4:5].values # Extract the Close values for training data\n",
        "\n",
        "#Define the test data\n",
        "num_testing_samples: int = len(stk_data) - num_training_samples # number of test samples in int \n",
        "testing_set = stk_data.iloc[-num_testing_samples:, 4:5].values # Extract the Close values for test data\n",
        "print('Training set shape:', training_set.shape, '\\n', 'Testing set shape:', testing_set.shape)"
      ],
      "execution_count": null,
      "outputs": [
        {
          "output_type": "stream",
          "text": [
            "Training set shape: (1121, 1) \n",
            " Testing set shape: (280, 1)\n"
          ],
          "name": "stdout"
        }
      ]
    },
    {
      "cell_type": "markdown",
      "metadata": {
        "id": "7C2yb4c8xnGv"
      },
      "source": [
        "**Generting y_train, y_test, t_s**"
      ]
    },
    {
      "cell_type": "code",
      "metadata": {
        "id": "drjlkM0bRiBF"
      },
      "source": [
        "scaler = StandardScaler()\n",
        "training_set_scaled = scaler.fit_transform(training_set) #2D (num_training_samples, 1)\n",
        "testing_set_scaled = scaler.transform(testing_set) # 2D ndarray (num_testing_samples, 1)"
      ],
      "execution_count": null,
      "outputs": []
    },
    {
      "cell_type": "code",
      "metadata": {
        "id": "bQ5BEerLr8j1",
        "colab": {
          "base_uri": "https://localhost:8080/"
        },
        "outputId": "b301ffec-00dd-4a2b-a8a8-ffd9b75360f5"
      },
      "source": [
        "sequence_length: int = 32 # Number of x_i for each y_i\n",
        "\n",
        "x_train = np.array([training_set_scaled[i - sequence_length:i, 0] for i in range(sequence_length, len(training_set_scaled))]) \n",
        "x_train = np.reshape(x_train, (x_train.shape[0], x_train.shape[1])) # 3D training set (num_training_samples, sequence_length, 1) \n",
        "\n",
        "x_test = np.array([testing_set_scaled[i - sequence_length:i, 0] for i in range(sequence_length, len(testing_set_scaled))])\n",
        "x_test = np.reshape(x_test, (x_test.shape[0], x_test.shape[1])) #3D test set (num_testing_samples, sequence_length, 1)\n",
        "\n",
        "y_train = np.array([training_set_scaled[i, 0] for i in range(sequence_length, len(training_set_scaled))]) # 2D (num_training_samples, 1)\n",
        "y_test = np.array([testing_set_scaled[i, 0] for i in range(sequence_length, len(testing_set_scaled))]) # 2D (num_testing_samples, 1)\n",
        "y_test = np.reshape(y_test, (y_test.shape[0])) # 1D (num_testing_samples, )\n",
        "\n",
        "print('x_train shape:', x_train.shape, '\\n', 'x_test shape:', x_test.shape, '\\n', 'y_train shape:', y_train.shape, '\\n', 'y_test shape:', y_test.shape)\n",
        "\n",
        "ts_  = np.arange(0, y_train.shape[0])\n",
        "ts_ext_ = np.arange(y_train.shape[0], y_train.shape[0] + y_test.shape[0])\n",
        "ts_full_ = np.arange(0, y_train.shape[0] + y_test.shape[0])\n",
        "\n",
        "# Since each year has 252 trading days on average\n",
        "ts_ = ts_/252; ts_ext_ = ts_ext_/252; ts_full_ = ts_full_/252 # ts_[-1] = 4.44444, ts_ext_[-1] : 5.5555\n",
        "\n",
        "print('ts_ shape:', ts_.shape, '\\n', 'ts_ext_ shape:', ts_ext_.shape, '\\n', 'ts_full_ shape:', ts_full_.shape)"
      ],
      "execution_count": null,
      "outputs": [
        {
          "output_type": "stream",
          "text": [
            "x_train shape: (1089, 32) \n",
            " x_test shape: (248, 32) \n",
            " y_train shape: (1089,) \n",
            " y_test shape: (248,)\n",
            "ts_ shape: (1089,) \n",
            " ts_ext_ shape: (248,) \n",
            " ts_full_ shape: (1337,)\n"
          ],
          "name": "stdout"
        }
      ]
    },
    {
      "cell_type": "code",
      "metadata": {
        "id": "r66ibsd6w8Gb",
        "colab": {
          "base_uri": "https://localhost:8080/"
        },
        "outputId": "f854f6ec-88e7-4f08-b875-77972f804cf9"
      },
      "source": [
        "plt.figure(figsize=(16,6))\n",
        "plt.plot(ts_,y_train)\n",
        "plt.title('Historical Stock Value', fontsize = 16)\n",
        "plt.xlabel('Time in years', fontsize = 14)\n",
        "plt.ylabel('Stock Price', fontsize = 14)\n",
        "plt.grid()\n",
        "plt.show()"
      ],
      "execution_count": null,
      "outputs": [
        {
          "output_type": "display_data",
          "data": {
            "image/png": "[encoded data removed]",
            "text/plain": [
              "<Figure size 1152x432 with 1 Axes>"
            ]
          },
          "metadata": {
            "tags": [],
            "needs_background": "light"
          }
        }
      ]
    },
    {
      "cell_type": "code",
      "metadata": {
        "id": "maEtob7BDkUd",
        "colab": {
          "base_uri": "https://localhost:8080/"
        },
        "outputId": "ea3da4f6-d9be-4269-c518-3d550f8892b8"
      },
      "source": [
        "device = torch.device('cuda' if use_cuda else 'cpu')\n",
        "# device = 'cpu'\n",
        "xs = torch.tensor(x_train).float().to(device)\n",
        "ys = torch.tensor(y_train).float().to(device)\n",
        "ys = ys.view(y_train.shape[0],1)\n",
        "ts = torch.tensor(ts_).float().to(device)\n",
        "ts = ts.view(ts_.shape[0],1)\n",
        "\n",
        "xs_ext = torch.tensor(x_test).float().to(device)\n",
        "ys_ext = torch.tensor(y_test).float().to(device)\n",
        "ys_ext = ys_ext.view(y_test.shape[0],1)\n",
        "ts_ext = torch.tensor(ts_ext_).float().to(device)\n",
        "ts_ext = ts_ext.view(ts_ext_.shape[0],1)\n",
        "ts_full = torch.tensor(ts_full_).float().to(device)\n",
        "ts_full = ts_full.view(ts_full_.shape[0],1)\n",
        "\n",
        "print('xs shape:', xs.shape, '\\n', 'xs_ext shape:', xs_ext.shape, '\\n', 'ys shape:', ys.shape, '\\n', 'ys_ext shape:', ys_ext.shape)\n",
        "print('ts shape:', ts.shape, '\\n', 'ts_ext shape:', ts_ext.shape, '\\n', 'ts_full shape:', ts_full.shape)"
      ],
      "execution_count": null,
      "outputs": [
        {
          "output_type": "stream",
          "text": [
            "xs shape: torch.Size([1089, 32]) \n",
            " xs_ext shape: torch.Size([248, 32]) \n",
            " ys shape: torch.Size([1089, 1]) \n",
            " ys_ext shape: torch.Size([248, 1])\n",
            "ts shape: torch.Size([1089, 1]) \n",
            " ts_ext shape: torch.Size([248, 1]) \n",
            " ts_full shape: torch.Size([1337, 1])\n"
          ],
          "name": "stdout"
        }
      ]
    },
    {
      "cell_type": "markdown",
      "metadata": {
        "id": "tsSL9cjNn34L"
      },
      "source": [
        "# **Define ODE_solver and Model. Train Data**"
      ]
    },
    {
      "cell_type": "code",
      "metadata": {
        "id": "ewSkdt3-_4S_"
      },
      "source": [
        "train = Data.TensorDataset(xs, ys)\n",
        "trainloader = Data.DataLoader(train, batch_size=x_train.shape[0], shuffle=False)"
      ],
      "execution_count": null,
      "outputs": []
    },
    {
      "cell_type": "code",
      "metadata": {
        "id": "Q4f6TKFCJ9zh"
      },
      "source": [
        "class Learner(pl.LightningModule):\n",
        "    def __init__(self, model:nn.Module):\n",
        "        super().__init__()\n",
        "        self.model = model.to(device)\n",
        "        self.epoch = 1\n",
        "\n",
        "    def forward(self, x):\n",
        "        return self.model(x)\n",
        "\n",
        "    def training_step(self, batch, batch_idx):\n",
        "        epoch = self.epoch\n",
        "        x, y = batch\n",
        "        y_hat = self.model(x)\n",
        "        loss = nn.functional.mse_loss(y_hat, y, True)\n",
        "        logs = {'train_loss': loss}\n",
        "        \n",
        "        # Save plots while training\n",
        "        \n",
        "        plt.figure(figsize = (8, 4))\n",
        "        plt.plot(ts_, scaler.inverse_transform(y_hat.cpu().detach().numpy()))\n",
        "        plt.plot(ts_, scaler.inverse_transform(y.cpu().detach().numpy()))\n",
        "        plt.ylim(750,1700)\n",
        "        img_path = os.path.join('/content/output/', f'train_{epoch}.png')\n",
        "        plt.savefig(img_path, dpi = 300)\n",
        "        plt.close()\n",
        "        \n",
        "        predict = self.model(xs_ext)\n",
        "        predict_loss = nn.functional.mse_loss(predict, ys_ext, True)\n",
        "        plt.figure(figsize = (8, 4))\n",
        "        plt.plot(ts_ext_, scaler.inverse_transform(predict.cpu().detach().numpy()))\n",
        "        plt.plot(ts_ext_, scaler.inverse_transform(ys_ext.cpu().detach().numpy()))\n",
        "        plt.ylim(800,2300)\n",
        "        img_path = os.path.join('/content/output/', f'test_{epoch}.png')\n",
        "        plt.savefig(img_path, dpi = 300)\n",
        "        plt.close()\n",
        "        self.epoch = self.epoch + 1\n",
        "\n",
        "        self.logger.experiment.add_scalar(\"Loss - Train\",\n",
        "                                            loss,\n",
        "                                            self.epoch)\n",
        "        self.logger.experiment.add_scalar(\"Loss - Test\",\n",
        "                                            predict_loss,\n",
        "                                            self.epoch)\n",
        "        batch_dictionary={\n",
        "            \"loss\": loss,\n",
        "            \"log\": logs,\n",
        "        }\n",
        "\n",
        "\n",
        "        return batch_dictionary\n",
        "\n",
        "    def configure_optimizers(self):\n",
        "        return torch.optim.Adam(self.model.parameters(), lr=0.001, weight_decay = 0.1)\n",
        "\n",
        "    def train_dataloader(self):\n",
        "        return trainloader"
      ],
      "execution_count": null,
      "outputs": []
    },
    {
      "cell_type": "code",
      "metadata": {
        "id": "4f79IM62KJLl"
      },
      "source": [
        "# vector field parametrized by a NN\n",
        "f = nn.Sequential(\n",
        "        nn.Linear(sequence_length , 64).to(device),\n",
        "        nn.ELU().to(device),\n",
        "        # nn.Dropout(p=0.2).to(device),\n",
        "        nn.Linear(64 , 128).to(device),\n",
        "        nn.ELU().to(device),\n",
        "        # nn.Dropout(p=0.2).to(device),\n",
        "        nn.Linear(128 , 64).to(device),\n",
        "        nn.ELU().to(device),\n",
        "        # nn.Dropout(p=0.2).to(device),\n",
        "        nn.Linear(64, sequence_length).to(device))\n",
        "\n",
        "#lstm_layer = nn.LSTM(32, 128, 3)\n",
        "#inp = torch.randn(x_train.shape[0], 32, xs.shape())\n",
        "#hidden_state = torch.randn(3, x_train.shape[0], 128)\n",
        "#cell_state = torch.randn(3, x_train.shape[0], 128)\n",
        "#hidden = (hidden_state, cell_state) \n",
        "#out, hidden = lstm_layer(inp, hidden)\n",
        "# Neural ODE\n",
        "neuralde = NeuralDE(f, sensitivity='adjoint', solver='dopri8', atol = 1.4e-5).to(device)\n",
        "model = nn.Sequential(neuralde,\n",
        "                      nn.Linear(sequence_length, 1).to(device))"
      ],
      "execution_count": null,
      "outputs": []
    },
    {
      "cell_type": "markdown",
      "metadata": {
        "id": "pUgisQBB1rQ1"
      },
      "source": [
        "# **Train Model**"
      ]
    },
    {
      "cell_type": "code",
      "metadata": {
        "id": "zX4I1l2-PhJe",
        "colab": {
          "base_uri": "https://localhost:8080/",
          "height": 185,
          "referenced_widgets": [
            "94ceafe9246d4816930a85fec9be5feb",
            "31cf4349c28949288183a8a6a1dac5a5",
            "fd28e81f8e174dec849a80d8e6995a3a",
            "57016ab000c74dc492699828b1c08d73",
            "6ddc50695a754321bff0072027977d73",
            "16be383a2cdf4785b3cf00cd3482aa0b",
            "a235ae70c46d4d9bb95d7ac9a59c15a7",
            "3c09412b7d9e4c5f9dc5288ddfa49739"
          ]
        },
        "outputId": "e569d1bf-0c5d-4060-9661-fdb6bda27715"
      },
      "source": [
        "from pytorch_lightning.loggers import TensorBoardLogger as TBlogger\n",
        "\n",
        "path = os.path.join('/content/', 'output')\n",
        "os.makedirs(path, exist_ok=True)\n",
        "learn = Learner(model)\n",
        "trainer = pl.Trainer(min_epochs= 599, \n",
        "                     max_epochs= 600, \n",
        "                     progress_bar_refresh_rate=20, \n",
        "                     gpus= 0, \n",
        "                     logger= TBlogger(save_dir=os.getcwd(), name='logs')\n",
        "                     )\n",
        "trainer.fit(learn)"
      ],
      "execution_count": null,
      "outputs": [
        {
          "output_type": "stream",
          "text": [
            "GPU available: True, used: False\n",
            "TPU available: False, using: 0 TPU cores\n",
            "\n",
            "  | Name  | Type       | Params\n",
            "-------------------------------------\n",
            "0 | model | Sequential | 20.8 K\n"
          ],
          "name": "stderr"
        },
        {
          "output_type": "display_data",
          "data": {
            "application/vnd.jupyter.widget-view+json": {
              "model_id": "94ceafe9246d4816930a85fec9be5feb",
              "version_minor": 0,
              "version_major": 2
            },
            "text/plain": [
              "HBox(children=(FloatProgress(value=1.0, bar_style='info', description='Training', layout=Layout(flex='2'), max…"
            ]
          },
          "metadata": {
            "tags": []
          }
        },
        {
          "output_type": "stream",
          "text": [
            "\n"
          ],
          "name": "stdout"
        },
        {
          "output_type": "execute_result",
          "data": {
            "text/plain": [
              "1"
            ]
          },
          "metadata": {
            "tags": []
          },
          "execution_count": 46
        }
      ]
    },
    {
      "cell_type": "markdown",
      "metadata": {
        "id": "KcmzfPM0DNWP"
      },
      "source": [
        "## **TensorBoard Visualization**"
      ]
    },
    {
      "cell_type": "code",
      "metadata": {
        "id": "vsQe0TyZ9GVF"
      },
      "source": [
        "%load_ext tensorboard\n",
        "%tensorboard --logdir logs/"
      ],
      "execution_count": null,
      "outputs": []
    },
    {
      "cell_type": "code",
      "metadata": {
        "id": "AstNs699q-s7"
      },
      "source": [
        "!tensorboard dev upload --logdir logs \\\n",
        "    --name \"(optional) My latest experiment\" \\"
      ],
      "execution_count": null,
      "outputs": []
    },
    {
      "cell_type": "code",
      "metadata": {
        "id": "nh6iFyRyJPly"
      },
      "source": [
        "TestLoss = pd.read_csv('Loss-Test.csv')\n",
        "TrainLoss = pd.read_csv('Loss-Train.csv')"
      ],
      "execution_count": null,
      "outputs": []
    },
    {
      "cell_type": "code",
      "metadata": {
        "colab": {
          "base_uri": "https://localhost:8080/",
          "height": 445
        },
        "id": "KuWHL01aMCS2",
        "outputId": "14fcde71-7418-4d79-d2e5-786d7d2284ec"
      },
      "source": [
        "test_losses = TestLoss.iloc[:,-1]\n",
        "train_losses = TrainLoss.iloc[:,-1]\n",
        "\n",
        "plt.figure(figsize=(12,7))\n",
        "plt.plot(train_losses)\n",
        "plt.plot(test_losses)\n",
        "plt.legend(('Training loss','Test Loss'))\n",
        "plt.savefig(os.path.join('/content/output/','Loss'), dpi=300)\n",
        "plt.show()\n",
        "print(test_losses[599])"
      ],
      "execution_count": null,
      "outputs": [
        {
          "output_type": "display_data",
          "data": {
            "image/png": "[encoded data removed]",
            "text/plain": [
              "<Figure size 864x504 with 1 Axes>"
            ]
          },
          "metadata": {
            "tags": [],
            "needs_background": "light"
          }
        },
        {
          "output_type": "stream",
          "text": [
            "0.07705966383218765\n"
          ],
          "name": "stdout"
        }
      ]
    },
    {
      "cell_type": "markdown",
      "metadata": {
        "id": "S3_b43hPp-sz"
      },
      "source": [
        "# **Test and plot data**"
      ]
    },
    {
      "cell_type": "code",
      "metadata": {
        "id": "HJG5PSm1c70F",
        "colab": {
          "base_uri": "https://localhost:8080/"
        },
        "outputId": "aa69dc81-6995-4db8-ca48-5c7ce0d601d5"
      },
      "source": [
        "out = model(xs).cpu().detach()\n",
        "print(out.shape)\n",
        "predict = model(xs_ext).cpu().detach()\n",
        "print(predict.shape)"
      ],
      "execution_count": null,
      "outputs": [
        {
          "output_type": "stream",
          "text": [
            "torch.Size([1089, 1])\n",
            "torch.Size([248, 1])\n"
          ],
          "name": "stdout"
        }
      ]
    },
    {
      "cell_type": "code",
      "metadata": {
        "id": "JAFz5zpMgRI2",
        "colab": {
          "base_uri": "https://localhost:8080/",
          "height": 265
        },
        "outputId": "17af3156-578b-4fec-9302-31caf42ae7a1"
      },
      "source": [
        "plt.figure(figsize = (8,4))\n",
        "plt.plot(ts_, scaler.inverse_transform(out.numpy()))\n",
        "plt.plot(ts_, scaler.inverse_transform(ys.cpu().detach().numpy()))\n",
        "plt.show()"
      ],
      "execution_count": null,
      "outputs": [
        {
          "output_type": "display_data",
          "data": {
            "image/png": "[encoded data removed]",
            "text/plain": [
              "<Figure size 576x288 with 1 Axes>"
            ]
          },
          "metadata": {
            "tags": [],
            "needs_background": "light"
          }
        }
      ]
    },
    {
      "cell_type": "code",
      "metadata": {
        "id": "B-E_tu41vJ_q"
      },
      "source": [
        "%cp -av output output1"
      ],
      "execution_count": null,
      "outputs": []
    },
    {
      "cell_type": "code",
      "metadata": {
        "id": "UquV4RyCwKah"
      },
      "source": [
        "for i in range(1, 599, 2):\n",
        "  os.remove(os.path.join('/content/output1/', f'test_{i}.png'))\n",
        "  os.remove(os.path.join('/content/output1/', f'train_{i}.png'))"
      ],
      "execution_count": null,
      "outputs": []
    },
    {
      "cell_type": "code",
      "metadata": {
        "id": "FZYPUjWEmbvX",
        "colab": {
          "base_uri": "https://localhost:8080/",
          "height": 282
        },
        "outputId": "54716d0a-7e88-431d-d9b4-9ffef613762e"
      },
      "source": [
        "# print(nn.functional.mse_loss(predict.cpu(), ys_ext.cpu()))\n",
        "from sklearn.metrics import mean_squared_error as mse\n",
        "\n",
        "print(mse(predict.numpy(),ys_ext.cpu().detach().numpy()))\n",
        "\n",
        "plt.figure(figsize = (8, 4))\n",
        "plt.plot(ts_ext_, scaler.inverse_transform(predict.numpy()))\n",
        "plt.plot(ts_ext_, scaler.inverse_transform(ys_ext.cpu().detach().numpy()))\n",
        "plt.legend(('Model Prediction', 'Test Data'))\n",
        "plt.show()"
      ],
      "execution_count": null,
      "outputs": [
        {
          "output_type": "stream",
          "text": [
            "0.07701241\n"
          ],
          "name": "stdout"
        },
        {
          "output_type": "display_data",
          "data": {
            "image/png": "[encoded data removed]",
            "text/plain": [
              "<Figure size 576x288 with 1 Axes>"
            ]
          },
          "metadata": {
            "tags": [],
            "needs_background": "light"
          }
        }
      ]
    },
    {
      "cell_type": "markdown",
      "metadata": {
        "id": "YSF1T0_2x92U"
      },
      "source": [
        "# **Download Data**"
      ]
    },
    {
      "cell_type": "code",
      "metadata": {
        "id": "dVYaoKKn1QV9",
        "colab": {
          "base_uri": "https://localhost:8080/"
        },
        "outputId": "5027541a-a2ff-4075-fa1f-a91a4c798406"
      },
      "source": [
        "!zip -r /content/ODE_Iteration1_MSE_.zip /content/output\n",
        "\n",
        "# files.download(\"/content/SDE_Iteration5_MSE_.zip\")"
      ],
      "execution_count": null,
      "outputs": [
        {
          "output_type": "stream",
          "text": [
            "  adding: content/output1/ (stored 0%)\n",
            "  adding: content/output1/train_256.png (deflated 8%)\n",
            "  adding: content/output1/train_594.png (deflated 8%)\n",
            "  adding: content/output1/test_592.png (deflated 9%)\n",
            "  adding: content/output1/train_506.png (deflated 8%)\n",
            "  adding: content/output1/train_532.png (deflated 8%)\n",
            "  adding: content/output1/train_206.png (deflated 7%)\n",
            "  adding: content/output1/train_134.png (deflated 7%)\n",
            "  adding: content/output1/test_348.png (deflated 9%)\n",
            "  adding: content/output1/test_2.png (deflated 9%)\n",
            "  adding: content/output1/train_232.png (deflated 7%)\n",
            "  adding: content/output1/train_208.png (deflated 7%)\n",
            "  adding: content/output1/train_336.png (deflated 7%)\n",
            "  adding: content/output1/test_54.png (deflated 9%)\n",
            "  adding: content/output1/train_18.png (deflated 7%)\n",
            "  adding: content/output1/test_32.png (deflated 9%)\n",
            "  adding: content/output1/test_552.png (deflated 9%)\n",
            "  adding: content/output1/test_222.png (deflated 9%)\n",
            "  adding: content/output1/test_548.png (deflated 9%)\n",
            "  adding: content/output1/train_382.png (deflated 7%)\n",
            "  adding: content/output1/test_302.png (deflated 9%)\n",
            "  adding: content/output1/train_190.png (deflated 7%)\n",
            "  adding: content/output1/test_476.png (deflated 9%)\n",
            "  adding: content/output1/test_598.png (deflated 9%)\n",
            "  adding: content/output1/test_556.png (deflated 9%)\n",
            "  adding: content/output1/train_522.png (deflated 8%)\n",
            "  adding: content/output1/test_376.png (deflated 9%)\n",
            "  adding: content/output1/test_56.png (deflated 9%)\n",
            "  adding: content/output1/train_332.png (deflated 7%)\n",
            "  adding: content/output1/train_246.png (deflated 7%)\n",
            "  adding: content/output1/train_390.png (deflated 7%)\n",
            "  adding: content/output1/train_66.png (deflated 7%)\n",
            "  adding: content/output1/train_544.png (deflated 8%)\n",
            "  adding: content/output1/test_326.png (deflated 9%)\n",
            "  adding: content/output1/test_392.png (deflated 9%)\n",
            "  adding: content/output1/train_220.png (deflated 7%)\n",
            "  adding: content/output1/train_464.png (deflated 8%)\n",
            "  adding: content/output1/train_328.png (deflated 7%)\n",
            "  adding: content/output1/test_416.png (deflated 9%)\n",
            "  adding: content/output1/train_470.png (deflated 8%)\n",
            "  adding: content/output1/train_536.png (deflated 8%)\n",
            "  adding: content/output1/test_408.png (deflated 9%)\n",
            "  adding: content/output1/train_30.png (deflated 7%)\n",
            "  adding: content/output1/train_384.png (deflated 8%)\n",
            "  adding: content/output1/test_36.png (deflated 9%)\n",
            "  adding: content/output1/train_488.png (deflated 8%)\n",
            "  adding: content/output1/test_188.png (deflated 9%)\n",
            "  adding: content/output1/train_428.png (deflated 8%)\n",
            "  adding: content/output1/test_264.png (deflated 9%)\n",
            "  adding: content/output1/test_66.png (deflated 9%)\n",
            "  adding: content/output1/train_76.png (deflated 7%)\n",
            "  adding: content/output1/test_504.png (deflated 9%)\n",
            "  adding: content/output1/test_30.png (deflated 9%)\n",
            "  adding: content/output1/test_366.png (deflated 9%)\n",
            "  adding: content/output1/test_364.png (deflated 9%)\n",
            "  adding: content/output1/train_330.png (deflated 7%)\n",
            "  adding: content/output1/test_578.png (deflated 9%)\n",
            "  adding: content/output1/test_216.png (deflated 9%)\n",
            "  adding: content/output1/train_599.png (deflated 8%)\n",
            "  adding: content/output1/train_270.png (deflated 8%)\n",
            "  adding: content/output1/test_450.png (deflated 9%)\n",
            "  adding: content/output1/test_290.png (deflated 9%)\n",
            "  adding: content/output1/test_382.png (deflated 9%)\n",
            "  adding: content/output1/train_100.png (deflated 7%)\n",
            "  adding: content/output1/test_14.png (deflated 9%)\n",
            "  adding: content/output1/train_498.png (deflated 8%)\n",
            "  adding: content/output1/test_162.png (deflated 9%)\n",
            "  adding: content/output1/train_566.png (deflated 8%)\n",
            "  adding: content/output1/train_126.png (deflated 7%)\n",
            "  adding: content/output1/test_536.png (deflated 9%)\n",
            "  adding: content/output1/test_460.png (deflated 9%)\n",
            "  adding: content/output1/test_336.png (deflated 9%)\n",
            "  adding: content/output1/train_56.png (deflated 7%)\n",
            "  adding: content/output1/test_576.png (deflated 9%)\n",
            "  adding: content/output1/train_440.png (deflated 8%)\n",
            "  adding: content/output1/test_186.png (deflated 9%)\n",
            "  adding: content/output1/train_240.png (deflated 8%)\n",
            "  adding: content/output1/test_510.png (deflated 9%)\n",
            "  adding: content/output1/train_98.png (deflated 7%)\n",
            "  adding: content/output1/test_88.png (deflated 9%)\n",
            "  adding: content/output1/test_164.png (deflated 9%)\n",
            "  adding: content/output1/test_390.png (deflated 9%)\n",
            "  adding: content/output1/train_182.png (deflated 7%)\n",
            "  adding: content/output1/test_292.png (deflated 9%)\n",
            "  adding: content/output1/test_146.png (deflated 9%)\n",
            "  adding: content/output1/test_226.png (deflated 9%)\n",
            "  adding: content/output1/train_288.png (deflated 8%)\n",
            "  adding: content/output1/test_130.png (deflated 9%)\n",
            "  adding: content/output1/test_26.png (deflated 9%)\n",
            "  adding: content/output1/train_600.png (deflated 8%)\n",
            "  adding: content/output1/train_24.png (deflated 7%)\n",
            "  adding: content/output1/test_490.png (deflated 9%)\n",
            "  adding: content/output1/test_210.png (deflated 9%)\n",
            "  adding: content/output1/test_324.png (deflated 9%)\n",
            "  adding: content/output1/train_26.png (deflated 7%)\n",
            "  adding: content/output1/test_422.png (deflated 9%)\n",
            "  adding: content/output1/test_140.png (deflated 9%)\n",
            "  adding: content/output1/test_174.png (deflated 9%)\n",
            "  adding: content/output1/test_178.png (deflated 9%)\n",
            "  adding: content/output1/test_184.png (deflated 9%)\n",
            "  adding: content/output1/train_84.png (deflated 7%)\n",
            "  adding: content/output1/train_530.png (deflated 8%)\n",
            "  adding: content/output1/train_156.png (deflated 7%)\n",
            "  adding: content/output1/train_508.png (deflated 8%)\n",
            "  adding: content/output1/train_588.png (deflated 8%)\n",
            "  adding: content/output1/train_74.png (deflated 7%)\n",
            "  adding: content/output1/test_24.png (deflated 9%)\n",
            "  adding: content/output1/train_338.png (deflated 7%)\n",
            "  adding: content/output1/test_388.png (deflated 9%)\n",
            "  adding: content/output1/train_326.png (deflated 7%)\n",
            "  adding: content/output1/test_500.png (deflated 9%)\n",
            "  adding: content/output1/test_528.png (deflated 9%)\n",
            "  adding: content/output1/train_294.png (deflated 8%)\n",
            "  adding: content/output1/test_194.png (deflated 9%)\n",
            "  adding: content/output1/test_482.png (deflated 9%)\n",
            "  adding: content/output1/train_172.png (deflated 7%)\n",
            "  adding: content/output1/train_146.png (deflated 7%)\n",
            "  adding: content/output1/test_84.png (deflated 9%)\n",
            "  adding: content/output1/test_356.png (deflated 9%)\n",
            "  adding: content/output1/train_396.png (deflated 7%)\n",
            "  adding: content/output1/train_170.png (deflated 7%)\n",
            "  adding: content/output1/train_248.png (deflated 8%)\n",
            "  adding: content/output1/train_518.png (deflated 8%)\n",
            "  adding: content/output1/train_580.png (deflated 8%)\n",
            "  adding: content/output1/train_14.png (deflated 7%)\n",
            "  adding: content/output1/train_582.png (deflated 8%)\n",
            "  adding: content/output1/train_118.png (deflated 7%)\n",
            "  adding: content/output1/test_426.png (deflated 9%)\n",
            "  adding: content/output1/train_426.png (deflated 8%)\n",
            "  adding: content/output1/train_366.png (deflated 8%)\n",
            "  adding: content/output1/train_150.png (deflated 7%)\n",
            "  adding: content/output1/test_352.png (deflated 9%)\n",
            "  adding: content/output1/train_374.png (deflated 8%)\n",
            "  adding: content/output1/train_166.png (deflated 7%)\n",
            "  adding: content/output1/train_514.png (deflated 8%)\n",
            "  adding: content/output1/train_180.png (deflated 7%)\n",
            "  adding: content/output1/test_90.png (deflated 9%)\n",
            "  adding: content/output1/train_592.png (deflated 8%)\n",
            "  adding: content/output1/test_172.png (deflated 9%)\n",
            "  adding: content/output1/train_500.png (deflated 8%)\n",
            "  adding: content/output1/test_294.png (deflated 9%)\n",
            "  adding: content/output1/test_272.png (deflated 9%)\n",
            "  adding: content/output1/test_540.png (deflated 9%)\n",
            "  adding: content/output1/train_86.png (deflated 7%)\n",
            "  adding: content/output1/test_136.png (deflated 9%)\n",
            "  adding: content/output1/train_200.png (deflated 7%)\n",
            "  adding: content/output1/test_344.png (deflated 9%)\n",
            "  adding: content/output1/test_138.png (deflated 9%)\n",
            "  adding: content/output1/test_316.png (deflated 9%)\n",
            "  adding: content/output1/train_132.png (deflated 7%)\n",
            "  adding: content/output1/train_112.png (deflated 7%)\n",
            "  adding: content/output1/test_314.png (deflated 9%)\n",
            "  adding: content/output1/train_568.png (deflated 8%)\n",
            "  adding: content/output1/train_140.png (deflated 7%)\n",
            "  adding: content/output1/test_338.png (deflated 9%)\n",
            "  adding: content/output1/test_514.png (deflated 9%)\n",
            "  adding: content/output1/train_388.png (deflated 8%)\n",
            "  adding: content/output1/test_544.png (deflated 9%)\n",
            "  adding: content/output1/test_456.png (deflated 9%)\n",
            "  adding: content/output1/test_306.png (deflated 9%)\n",
            "  adding: content/output1/train_298.png (deflated 8%)\n",
            "  adding: content/output1/test_128.png (deflated 9%)\n",
            "  adding: content/output1/train_406.png (deflated 8%)\n",
            "  adding: content/output1/train_228.png (deflated 7%)\n",
            "  adding: content/output1/test_412.png (deflated 9%)\n",
            "  adding: content/output1/test_410.png (deflated 9%)\n",
            "  adding: content/output1/train_412.png (deflated 8%)\n",
            "  adding: content/output1/test_192.png (deflated 9%)\n",
            "  adding: content/output1/test_170.png (deflated 9%)\n",
            "  adding: content/output1/test_308.png (deflated 9%)\n",
            "  adding: content/output1/train_408.png (deflated 8%)\n",
            "  adding: content/output1/train_8.png (deflated 7%)\n",
            "  adding: content/output1/test_72.png (deflated 9%)\n",
            "  adding: content/output1/test_480.png (deflated 9%)\n",
            "  adding: content/output1/train_108.png (deflated 7%)\n",
            "  adding: content/output1/test_530.png (deflated 9%)\n",
            "  adding: content/output1/train_154.png (deflated 7%)\n",
            "  adding: content/output1/train_218.png (deflated 7%)\n",
            "  adding: content/output1/test_60.png (deflated 9%)\n",
            "  adding: content/output1/test_588.png (deflated 9%)\n",
            "  adding: content/output1/train_430.png (deflated 8%)\n",
            "  adding: content/output1/test_310.png (deflated 9%)\n",
            "  adding: content/output1/train_78.png (deflated 7%)\n",
            "  adding: content/output1/test_340.png (deflated 9%)\n",
            "  adding: content/output1/train_418.png (deflated 8%)\n",
            "  adding: content/output1/test_442.png (deflated 9%)\n",
            "  adding: content/output1/test_570.png (deflated 9%)\n",
            "  adding: content/output1/test_378.png (deflated 9%)\n",
            "  adding: content/output1/test_230.png (deflated 9%)\n",
            "  adding: content/output1/test_82.png (deflated 9%)\n",
            "  adding: content/output1/train_584.png (deflated 8%)\n",
            "  adding: content/output1/test_494.png (deflated 9%)\n",
            "  adding: content/output1/test_50.png (deflated 9%)\n",
            "  adding: content/output1/train_394.png (deflated 8%)\n",
            "  adding: content/output1/test_534.png (deflated 9%)\n",
            "  adding: content/output1/test_242.png (deflated 9%)\n",
            "  adding: content/output1/test_276.png (deflated 9%)\n",
            "  adding: content/output1/train_482.png (deflated 8%)\n",
            "  adding: content/output1/test_238.png (deflated 9%)\n",
            "  adding: content/output1/train_340.png (deflated 7%)\n",
            "  adding: content/output1/train_152.png (deflated 7%)\n",
            "  adding: content/output1/test_62.png (deflated 9%)\n",
            "  adding: content/output1/test_470.png (deflated 9%)\n",
            "  adding: content/output1/train_224.png (deflated 7%)\n",
            "  adding: content/output1/train_82.png (deflated 7%)\n",
            "  adding: content/output1/test_132.png (deflated 9%)\n",
            "  adding: content/output1/train_34.png (deflated 7%)\n",
            "  adding: content/output1/train_296.png (deflated 8%)\n",
            "  adding: content/output1/train_72.png (deflated 7%)\n",
            "  adding: content/output1/train_36.png (deflated 7%)\n",
            "  adding: content/output1/test_599.png (deflated 9%)\n",
            "  adding: content/output1/test_374.png (deflated 9%)\n",
            "  adding: content/output1/test_360.png (deflated 9%)\n",
            "  adding: content/output1/test_406.png (deflated 9%)\n",
            "  adding: content/output1/train_254.png (deflated 7%)\n",
            "  adding: content/output1/train_380.png (deflated 8%)\n",
            "  adding: content/output1/train_490.png (deflated 8%)\n",
            "  adding: content/output1/train_460.png (deflated 8%)\n",
            "  adding: content/output1/test_240.png (deflated 9%)\n",
            "  adding: content/output1/train_204.png (deflated 7%)\n",
            "  adding: content/output1/test_566.png (deflated 9%)\n",
            "  adding: content/output1/train_258.png (deflated 8%)\n",
            "  adding: content/output1/train_260.png (deflated 8%)\n",
            "  adding: content/output1/test_414.png (deflated 9%)\n",
            "  adding: content/output1/train_174.png (deflated 7%)\n",
            "  adding: content/output1/train_44.png (deflated 7%)\n",
            "  adding: content/output1/train_486.png (deflated 8%)\n",
            "  adding: content/output1/test_260.png (deflated 9%)\n",
            "  adding: content/output1/train_494.png (deflated 8%)\n",
            "  adding: content/output1/test_180.png (deflated 9%)\n",
            "  adding: content/output1/train_194.png (deflated 7%)\n",
            "  adding: content/output1/train_420.png (deflated 8%)\n",
            "  adding: content/output1/test_568.png (deflated 9%)\n",
            "  adding: content/output1/train_372.png (deflated 7%)\n",
            "  adding: content/output1/train_378.png (deflated 8%)\n",
            "  adding: content/output1/test_502.png (deflated 9%)\n",
            "  adding: content/output1/train_436.png (deflated 8%)\n",
            "  adding: content/output1/train_16.png (deflated 7%)\n",
            "  adding: content/output1/test_148.png (deflated 9%)\n",
            "  adding: content/output1/test_320.png (deflated 9%)\n",
            "  adding: content/output1/train_344.png (deflated 8%)\n",
            "  adding: content/output1/test_236.png (deflated 9%)\n",
            "  adding: content/output1/train_178.png (deflated 7%)\n",
            "  adding: content/output1/train_274.png (deflated 8%)\n",
            "  adding: content/output1/test_232.png (deflated 9%)\n",
            "  adding: content/output1/test_182.png (deflated 9%)\n",
            "  adding: content/output1/test_110.png (deflated 9%)\n",
            "  adding: content/output1/train_80.png (deflated 7%)\n",
            "  adding: content/output1/test_298.png (deflated 9%)\n",
            "  adding: content/output1/test_468.png (deflated 9%)\n",
            "  adding: content/output1/test_554.png (deflated 9%)\n",
            "  adding: content/output1/train_392.png (deflated 8%)\n",
            "  adding: content/output1/test_154.png (deflated 9%)\n",
            "  adding: content/output1/test_508.png (deflated 9%)\n",
            "  adding: content/output1/train_322.png (deflated 7%)\n",
            "  adding: content/output1/test_202.png (deflated 9%)\n",
            "  adding: content/output1/test_330.png (deflated 9%)\n",
            "  adding: content/output1/test_458.png (deflated 9%)\n",
            "  adding: content/output1/train_234.png (deflated 8%)\n",
            "  adding: content/output1/test_270.png (deflated 9%)\n",
            "  adding: content/output1/test_218.png (deflated 9%)\n",
            "  adding: content/output1/test_428.png (deflated 9%)\n",
            "  adding: content/output1/train_502.png (deflated 8%)\n",
            "  adding: content/output1/train_158.png (deflated 7%)\n",
            "  adding: content/output1/train_12.png (deflated 7%)\n",
            "  adding: content/output1/test_46.png (deflated 9%)\n",
            "  adding: content/output1/test_100.png (deflated 9%)\n",
            "  adding: content/output1/test_114.png (deflated 9%)\n",
            "  adding: content/output1/test_20.png (deflated 9%)\n",
            "  adding: content/output1/train_216.png (deflated 7%)\n",
            "  adding: content/output1/test_384.png (deflated 9%)\n",
            "  adding: content/output1/train_446.png (deflated 8%)\n",
            "  adding: content/output1/test_462.png (deflated 9%)\n",
            "  adding: content/output1/test_472.png (deflated 9%)\n",
            "  adding: content/output1/test_432.png (deflated 9%)\n",
            "  adding: content/output1/test_8.png (deflated 9%)\n",
            "  adding: content/output1/test_584.png (deflated 9%)\n",
            "  adding: content/output1/train_422.png (deflated 8%)\n",
            "  adding: content/output1/train_262.png (deflated 8%)\n",
            "  adding: content/output1/train_28.png (deflated 7%)\n",
            "  adding: content/output1/train_40.png (deflated 7%)\n",
            "  adding: content/output1/train_38.png (deflated 7%)\n",
            "  adding: content/output1/test_248.png (deflated 9%)\n",
            "  adding: content/output1/train_360.png (deflated 7%)\n",
            "  adding: content/output1/train_540.png (deflated 8%)\n",
            "  adding: content/output1/train_62.png (deflated 7%)\n",
            "  adding: content/output1/test_402.png (deflated 9%)\n",
            "  adding: content/output1/train_244.png (deflated 7%)\n",
            "  adding: content/output1/test_582.png (deflated 9%)\n",
            "  adding: content/output1/train_70.png (deflated 7%)\n",
            "  adding: content/output1/train_596.png (deflated 8%)\n",
            "  adding: content/output1/train_586.png (deflated 8%)\n",
            "  adding: content/output1/train_404.png (deflated 7%)\n",
            "  adding: content/output1/test_524.png (deflated 9%)\n",
            "  adding: content/output1/test_278.png (deflated 9%)\n",
            "  adding: content/output1/train_50.png (deflated 7%)\n",
            "  adding: content/output1/train_462.png (deflated 8%)\n",
            "  adding: content/output1/train_432.png (deflated 8%)\n",
            "  adding: content/output1/train_308.png (deflated 7%)\n",
            "  adding: content/output1/test_58.png (deflated 9%)\n",
            "  adding: content/output1/train_362.png (deflated 7%)\n",
            "  adding: content/output1/test_332.png (deflated 9%)\n",
            "  adding: content/output1/train_198.png (deflated 7%)\n",
            "  adding: content/output1/test_466.png (deflated 9%)\n",
            "  adding: content/output1/test_562.png (deflated 9%)\n",
            "  adding: content/output1/train_286.png (deflated 8%)\n",
            "  adding: content/output1/train_116.png (deflated 7%)\n",
            "  adding: content/output1/train_306.png (deflated 7%)\n",
            "  adding: content/output1/test_286.png (deflated 9%)\n",
            "  adding: content/output1/train_278.png (deflated 8%)\n",
            "  adding: content/output1/test_224.png (deflated 9%)\n",
            "  adding: content/output1/test_78.png (deflated 9%)\n",
            "  adding: content/output1/test_150.png (deflated 9%)\n",
            "  adding: content/output1/test_152.png (deflated 9%)\n",
            "  adding: content/output1/test_48.png (deflated 9%)\n",
            "  adding: content/output1/train_524.png (deflated 8%)\n",
            "  adding: content/output1/train_102.png (deflated 7%)\n",
            "  adding: content/output1/train_236.png (deflated 7%)\n",
            "  adding: content/output1/test_496.png (deflated 9%)\n",
            "  adding: content/output1/train_402.png (deflated 8%)\n",
            "  adding: content/output1/test_296.png (deflated 9%)\n",
            "  adding: content/output1/train_452.png (deflated 8%)\n",
            "  adding: content/output1/test_246.png (deflated 9%)\n",
            "  adding: content/output1/train_32.png (deflated 7%)\n",
            "  adding: content/output1/train_292.png (deflated 8%)\n",
            "  adding: content/output1/train_414.png (deflated 8%)\n",
            "  adding: content/output1/train_68.png (deflated 7%)\n",
            "  adding: content/output1/test_492.png (deflated 9%)\n",
            "  adding: content/output1/train_546.png (deflated 8%)\n",
            "  adding: content/output1/test_190.png (deflated 9%)\n",
            "  adding: content/output1/test_596.png (deflated 9%)\n",
            "  adding: content/output1/train_238.png (deflated 8%)\n",
            "  adding: content/output1/test_168.png (deflated 9%)\n",
            "  adding: content/output1/test_380.png (deflated 9%)\n",
            "  adding: content/output1/train_282.png (deflated 8%)\n",
            "  adding: content/output1/train_438.png (deflated 8%)\n",
            "  adding: content/output1/test_358.png (deflated 9%)\n",
            "  adding: content/output1/test_126.png (deflated 9%)\n",
            "  adding: content/output1/test_266.png (deflated 9%)\n",
            "  adding: content/output1/train_552.png (deflated 8%)\n",
            "  adding: content/output1/test_92.png (deflated 9%)\n",
            "  adding: content/output1/test_446.png (deflated 9%)\n",
            "  adding: content/output1/train_472.png (deflated 8%)\n",
            "  adding: content/output1/train_196.png (deflated 7%)\n",
            "  adding: content/output1/train_480.png (deflated 8%)\n",
            "  adding: content/output1/test_304.png (deflated 9%)\n",
            "  adding: content/output1/train_484.png (deflated 8%)\n",
            "  adding: content/output1/train_46.png (deflated 7%)\n",
            "  adding: content/output1/train_354.png (deflated 7%)\n",
            "  adding: content/output1/test_166.png (deflated 9%)\n",
            "  adding: content/output1/test_444.png (deflated 9%)\n",
            "  adding: content/output1/test_546.png (deflated 9%)\n",
            "  adding: content/output1/test_52.png (deflated 9%)\n",
            "  adding: content/output1/train_48.png (deflated 7%)\n",
            "  adding: content/output1/train_324.png (deflated 7%)\n",
            "  adding: content/output1/train_160.png (deflated 7%)\n",
            "  adding: content/output1/train_138.png (deflated 7%)\n",
            "  adding: content/output1/train_320.png (deflated 7%)\n",
            "  adding: content/output1/test_68.png (deflated 9%)\n",
            "  adding: content/output1/train_222.png (deflated 7%)\n",
            "  adding: content/output1/train_276.png (deflated 8%)\n",
            "  adding: content/output1/train_474.png (deflated 8%)\n",
            "  adding: content/output1/test_532.png (deflated 9%)\n",
            "  adding: content/output1/train_122.png (deflated 7%)\n",
            "  adding: content/output1/test_234.png (deflated 9%)\n",
            "  adding: content/output1/test_346.png (deflated 9%)\n",
            "  adding: content/output1/train_398.png (deflated 8%)\n",
            "  adding: content/output1/test_6.png (deflated 8%)\n",
            "  adding: content/output1/test_212.png (deflated 9%)\n",
            "  adding: content/output1/test_394.png (deflated 9%)\n",
            "  adding: content/output1/test_262.png (deflated 9%)\n",
            "  adding: content/output1/train_526.png (deflated 8%)\n",
            "  adding: content/output1/test_256.png (deflated 9%)\n",
            "  adding: content/output1/test_208.png (deflated 9%)\n",
            "  adding: content/output1/train_564.png (deflated 8%)\n",
            "  adding: content/output1/train_454.png (deflated 8%)\n",
            "  adding: content/output1/test_228.png (deflated 9%)\n",
            "  adding: content/output1/Loss.png (deflated 27%)\n",
            "  adding: content/output1/train_188.png (deflated 7%)\n",
            "  adding: content/output1/test_274.png (deflated 9%)\n",
            "  adding: content/output1/train_416.png (deflated 8%)\n",
            "  adding: content/output1/test_564.png (deflated 9%)\n",
            "  adding: content/output1/train_444.png (deflated 8%)\n",
            "  adding: content/output1/train_124.png (deflated 7%)\n",
            "  adding: content/output1/test_436.png (deflated 9%)\n",
            "  adding: content/output1/test_94.png (deflated 9%)\n",
            "  adding: content/output1/test_160.png (deflated 9%)\n",
            "  adding: content/output1/test_512.png (deflated 9%)\n",
            "  adding: content/output1/train_512.png (deflated 8%)\n",
            "  adding: content/output1/test_386.png (deflated 9%)\n",
            "  adding: content/output1/test_430.png (deflated 9%)\n",
            "  adding: content/output1/train_316.png (deflated 7%)\n",
            "  adding: content/output1/train_136.png (deflated 7%)\n",
            "  adding: content/output1/train_54.png (deflated 7%)\n",
            "  adding: content/output1/test_438.png (deflated 9%)\n",
            "  adding: content/output1/test_112.png (deflated 9%)\n",
            "  adding: content/output1/train_104.png (deflated 7%)\n",
            "  adding: content/output1/train_60.png (deflated 7%)\n",
            "  adding: content/output1/train_562.png (deflated 8%)\n",
            "  adding: content/output1/test_144.png (deflated 9%)\n",
            "  adding: content/output1/train_442.png (deflated 8%)\n",
            "  adding: content/output1/train_92.png (deflated 7%)\n",
            "  adding: content/output1/test_198.png (deflated 9%)\n",
            "  adding: content/output1/train_184.png (deflated 7%)\n",
            "  adding: content/output1/train_202.png (deflated 7%)\n",
            "  adding: content/output1/test_398.png (deflated 9%)\n",
            "  adding: content/output1/train_492.png (deflated 8%)\n",
            "  adding: content/output1/test_396.png (deflated 9%)\n",
            "  adding: content/output1/test_206.png (deflated 9%)\n",
            "  adding: content/output1/train_290.png (deflated 7%)\n",
            "  adding: content/output1/test_34.png (deflated 9%)\n",
            "  adding: content/output1/test_424.png (deflated 9%)\n",
            "  adding: content/output1/train_114.png (deflated 7%)\n",
            "  adding: content/output1/test_70.png (deflated 9%)\n",
            "  adding: content/output1/train_496.png (deflated 8%)\n",
            "  adding: content/output1/train_556.png (deflated 8%)\n",
            "  adding: content/output1/test_318.png (deflated 9%)\n",
            "  adding: content/output1/train_176.png (deflated 7%)\n",
            "  adding: content/output1/train_368.png (deflated 7%)\n",
            "  adding: content/output1/test_312.png (deflated 9%)\n",
            "  adding: content/output1/train_64.png (deflated 7%)\n",
            "  adding: content/output1/test_478.png (deflated 9%)\n",
            "  adding: content/output1/test_200.png (deflated 9%)\n",
            "  adding: content/output1/train_2.png (deflated 7%)\n",
            "  adding: content/output1/test_328.png (deflated 9%)\n",
            "  adding: content/output1/test_362.png (deflated 9%)\n",
            "  adding: content/output1/train_358.png (deflated 8%)\n",
            "  adding: content/output1/test_86.png (deflated 9%)\n",
            "  adding: content/output1/train_548.png (deflated 8%)\n",
            "  adding: content/output1/test_142.png (deflated 9%)\n",
            "  adding: content/output1/test_538.png (deflated 9%)\n",
            "  adding: content/output1/test_498.png (deflated 9%)\n",
            "  adding: content/output1/test_122.png (deflated 9%)\n",
            "  adding: content/output1/test_268.png (deflated 9%)\n",
            "  adding: content/output1/test_18.png (deflated 9%)\n",
            "  adding: content/output1/train_310.png (deflated 7%)\n",
            "  adding: content/output1/test_542.png (deflated 9%)\n",
            "  adding: content/output1/test_440.png (deflated 9%)\n",
            "  adding: content/output1/train_572.png (deflated 8%)\n",
            "  adding: content/output1/train_304.png (deflated 7%)\n",
            "  adding: content/output1/test_250.png (deflated 9%)\n",
            "  adding: content/output1/test_590.png (deflated 9%)\n",
            "  adding: content/output1/train_466.png (deflated 8%)\n",
            "  adding: content/output1/train_478.png (deflated 8%)\n",
            "  adding: content/output1/train_350.png (deflated 7%)\n",
            "  adding: content/output1/train_242.png (deflated 7%)\n",
            "  adding: content/output1/test_516.png (deflated 9%)\n",
            "  adding: content/output1/train_42.png (deflated 7%)\n",
            "  adding: content/output1/test_370.png (deflated 9%)\n",
            "  adding: content/output1/train_272.png (deflated 8%)\n",
            "  adding: content/output1/train_528.png (deflated 8%)\n",
            "  adding: content/output1/train_538.png (deflated 8%)\n",
            "  adding: content/output1/test_594.png (deflated 9%)\n",
            "  adding: content/output1/test_106.png (deflated 9%)\n",
            "  adding: content/output1/train_456.png (deflated 8%)\n",
            "  adding: content/output1/test_464.png (deflated 9%)\n",
            "  adding: content/output1/train_312.png (deflated 7%)\n",
            "  adding: content/output1/train_214.png (deflated 7%)\n",
            "  adding: content/output1/train_162.png (deflated 7%)\n",
            "  adding: content/output1/test_42.png (deflated 9%)\n",
            "  adding: content/output1/train_356.png (deflated 7%)\n",
            "  adding: content/output1/test_44.png (deflated 9%)\n",
            "  adding: content/output1/train_598.png (deflated 8%)\n",
            "  adding: content/output1/train_142.png (deflated 7%)\n",
            "  adding: content/output1/test_156.png (deflated 9%)\n",
            "  adding: content/output1/train_346.png (deflated 8%)\n",
            "  adding: content/output1/train_264.png (deflated 8%)\n",
            "  adding: content/output1/test_96.png (deflated 9%)\n",
            "  adding: content/output1/train_6.png (deflated 7%)\n",
            "  adding: content/output1/train_318.png (deflated 7%)\n",
            "  adding: content/output1/train_90.png (deflated 7%)\n",
            "  adding: content/output1/train_468.png (deflated 8%)\n",
            "  adding: content/output1/test_220.png (deflated 9%)\n",
            "  adding: content/output1/train_576.png (deflated 8%)\n",
            "  adding: content/output1/train_284.png (deflated 8%)\n",
            "  adding: content/output1/test_558.png (deflated 9%)\n",
            "  adding: content/output1/test_526.png (deflated 9%)\n",
            "  adding: content/output1/test_158.png (deflated 9%)\n",
            "  adding: content/output1/train_516.png (deflated 8%)\n",
            "  adding: content/output1/train_130.png (deflated 7%)\n",
            "  adding: content/output1/test_452.png (deflated 9%)\n",
            "  adding: content/output1/train_302.png (deflated 8%)\n",
            "  adding: content/output1/train_144.png (deflated 7%)\n",
            "  adding: content/output1/test_400.png (deflated 9%)\n",
            "  adding: content/output1/train_120.png (deflated 7%)\n",
            "  adding: content/output1/test_64.png (deflated 9%)\n",
            "  adding: content/output1/train_22.png (deflated 7%)\n",
            "  adding: content/output1/train_88.png (deflated 7%)\n",
            "  adding: content/output1/test_474.png (deflated 9%)\n",
            "  adding: content/output1/test_506.png (deflated 9%)\n",
            "  adding: content/output1/train_20.png (deflated 7%)\n",
            "  adding: content/output1/train_550.png (deflated 8%)\n",
            "  adding: content/output1/test_124.png (deflated 9%)\n",
            "  adding: content/output1/test_586.png (deflated 9%)\n",
            "  adding: content/output1/test_16.png (deflated 9%)\n",
            "  adding: content/output1/test_574.png (deflated 9%)\n",
            "  adding: content/output1/test_342.png (deflated 9%)\n",
            "  adding: content/output1/test_176.png (deflated 9%)\n",
            "  adding: content/output1/test_434.png (deflated 9%)\n",
            "  adding: content/output1/train_348.png (deflated 7%)\n",
            "  adding: content/output1/test_108.png (deflated 9%)\n",
            "  adding: content/output1/test_74.png (deflated 9%)\n",
            "  adding: content/output1/train_186.png (deflated 7%)\n",
            "  adding: content/output1/train_334.png (deflated 7%)\n",
            "  adding: content/output1/train_210.png (deflated 7%)\n",
            "  adding: content/output1/test_12.png (deflated 9%)\n",
            "  adding: content/output1/train_352.png (deflated 8%)\n",
            "  adding: content/output1/train_400.png (deflated 8%)\n",
            "  adding: content/output1/train_558.png (deflated 8%)\n",
            "  adding: content/output1/test_10.png (deflated 9%)\n",
            "  adding: content/output1/train_504.png (deflated 8%)\n",
            "  adding: content/output1/train_386.png (deflated 8%)\n",
            "  adding: content/output1/test_204.png (deflated 9%)\n",
            "  adding: content/output1/train_590.png (deflated 8%)\n",
            "  adding: content/output1/test_120.png (deflated 9%)\n",
            "  adding: content/output1/train_212.png (deflated 7%)\n",
            "  adding: content/output1/train_410.png (deflated 8%)\n",
            "  adding: content/output1/train_520.png (deflated 8%)\n",
            "  adding: content/output1/test_214.png (deflated 9%)\n",
            "  adding: content/output1/test_334.png (deflated 9%)\n",
            "  adding: content/output1/test_282.png (deflated 9%)\n",
            "  adding: content/output1/train_252.png (deflated 8%)\n",
            "  adding: content/output1/train_4.png (deflated 7%)\n",
            "  adding: content/output1/test_368.png (deflated 9%)\n",
            "  adding: content/output1/test_288.png (deflated 9%)\n",
            "  adding: content/output1/train_106.png (deflated 7%)\n",
            "  adding: content/output1/train_266.png (deflated 8%)\n",
            "  adding: content/output1/test_102.png (deflated 9%)\n",
            "  adding: content/output1/test_4.png (deflated 8%)\n",
            "  adding: content/output1/train_450.png (deflated 8%)\n",
            "  adding: content/output1/test_560.png (deflated 9%)\n",
            "  adding: content/output1/train_280.png (deflated 8%)\n",
            "  adding: content/output1/train_192.png (deflated 7%)\n",
            "  adding: content/output1/train_370.png (deflated 7%)\n",
            "  adding: content/output1/train_268.png (deflated 8%)\n",
            "  adding: content/output1/test_350.png (deflated 9%)\n",
            "  adding: content/output1/test_118.png (deflated 9%)\n",
            "  adding: content/output1/train_110.png (deflated 7%)\n",
            "  adding: content/output1/test_448.png (deflated 9%)\n",
            "  adding: content/output1/train_52.png (deflated 7%)\n",
            "  adding: content/output1/test_116.png (deflated 9%)\n",
            "  adding: content/output1/test_372.png (deflated 9%)\n",
            "  adding: content/output1/test_418.png (deflated 9%)\n",
            "  adding: content/output1/train_164.png (deflated 7%)\n",
            "  adding: content/output1/test_134.png (deflated 9%)\n",
            "  adding: content/output1/train_560.png (deflated 8%)\n",
            "  adding: content/output1/test_254.png (deflated 9%)\n",
            "  adding: content/output1/test_454.png (deflated 9%)\n",
            "  adding: content/output1/test_522.png (deflated 9%)\n",
            "  adding: content/output1/train_58.png (deflated 7%)\n",
            "  adding: content/output1/test_284.png (deflated 9%)\n",
            "  adding: content/output1/test_486.png (deflated 9%)\n",
            "  adding: content/output1/train_300.png (deflated 8%)\n",
            "  adding: content/output1/train_424.png (deflated 8%)\n",
            "  adding: content/output1/train_448.png (deflated 8%)\n",
            "  adding: content/output1/test_580.png (deflated 9%)\n",
            "  adding: content/output1/train_542.png (deflated 8%)\n",
            "  adding: content/output1/train_458.png (deflated 8%)\n",
            "  adding: content/output1/test_420.png (deflated 9%)\n",
            "  adding: content/output1/train_128.png (deflated 7%)\n",
            "  adding: content/output1/train_314.png (deflated 7%)\n",
            "  adding: content/output1/train_10.png (deflated 7%)\n",
            "  adding: content/output1/test_76.png (deflated 9%)\n",
            "  adding: content/output1/train_148.png (deflated 7%)\n",
            "  adding: content/output1/train_230.png (deflated 7%)\n",
            "  adding: content/output1/train_570.png (deflated 8%)\n",
            "  adding: content/output1/train_168.png (deflated 7%)\n",
            "  adding: content/output1/test_98.png (deflated 9%)\n",
            "  adding: content/output1/test_488.png (deflated 9%)\n",
            "  adding: content/output1/train_96.png (deflated 7%)\n",
            "  adding: content/output1/test_252.png (deflated 9%)\n",
            "  adding: content/output1/train_250.png (deflated 8%)\n",
            "  adding: content/output1/test_600.png (deflated 9%)\n",
            "  adding: content/output1/test_518.png (deflated 9%)\n",
            "  adding: content/output1/test_322.png (deflated 9%)\n",
            "  adding: content/output1/test_22.png (deflated 9%)\n",
            "  adding: content/output1/test_196.png (deflated 9%)\n",
            "  adding: content/output1/train_364.png (deflated 8%)\n",
            "  adding: content/output1/test_38.png (deflated 9%)\n",
            "  adding: content/output1/test_572.png (deflated 9%)\n",
            "  adding: content/output1/train_578.png (deflated 8%)\n",
            "  adding: content/output1/test_80.png (deflated 9%)\n",
            "  adding: content/output1/test_244.png (deflated 9%)\n",
            "  adding: content/output1/train_574.png (deflated 8%)\n",
            "  adding: content/output1/test_104.png (deflated 9%)\n",
            "  adding: content/output1/train_226.png (deflated 7%)\n",
            "  adding: content/output1/test_28.png (deflated 9%)\n",
            "  adding: content/output1/train_534.png (deflated 8%)\n",
            "  adding: content/output1/test_550.png (deflated 9%)\n",
            "  adding: content/output1/train_554.png (deflated 8%)\n",
            "  adding: content/output1/train_94.png (deflated 7%)\n",
            "  adding: content/output1/test_258.png (deflated 9%)\n",
            "  adding: content/output1/train_376.png (deflated 8%)\n",
            "  adding: content/output1/test_404.png (deflated 9%)\n",
            "  adding: content/output1/test_280.png (deflated 9%)\n",
            "  adding: content/output1/test_484.png (deflated 9%)\n",
            "  adding: content/output1/train_434.png (deflated 8%)\n",
            "  adding: content/output1/train_476.png (deflated 8%)\n",
            "  adding: content/output1/test_40.png (deflated 9%)\n",
            "  adding: content/output1/test_520.png (deflated 9%)\n",
            "  adding: content/output1/train_510.png (deflated 8%)\n",
            "  adding: content/output1/test_300.png (deflated 9%)\n",
            "  adding: content/output1/test_354.png (deflated 9%)\n",
            "  adding: content/output1/train_342.png (deflated 7%)\n"
          ],
          "name": "stdout"
        }
      ]
    },
    {
      "cell_type": "markdown",
      "metadata": {
        "id": "W-h6XPbMyAsc"
      },
      "source": [
        "# **Delete Previous DATA**"
      ]
    },
    {
      "cell_type": "code",
      "metadata": {
        "id": "L4UgcONgyEpl"
      },
      "source": [
        "!rm -rf \"/content/output/\"\n",
        "!rm -rf \"/content/logs\""
      ],
      "execution_count": null,
      "outputs": []
    }
  ]
}